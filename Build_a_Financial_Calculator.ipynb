{
 "cells": [
  {
   "cell_type": "markdown",
   "metadata": {
    "colab_type": "text",
    "id": "view-in-github"
   },
   "source": [
    "<a href=\"https://colab.research.google.com/github/mariam851/Build-Financial-Calculator/blob/main/Build_a_Financial_Calculator.ipynb\" target=\"_parent\"><img src=\"https://colab.research.google.com/assets/colab-badge.svg\" alt=\"Open In Colab\"/></a>"
   ]
  },
  {
   "cell_type": "markdown",
   "metadata": {
    "id": "EsfO5Q92tL-6"
   },
   "source": [
    "[![freeCodeCamp](https://cdn.freecodecamp.org/testable-projects-fcc/images/fcc_secondary.svg)](https://freecodecamp.org/)"
   ]
  },
  {
   "cell_type": "markdown",
   "metadata": {
    "id": "57mlyO58UfN0"
   },
   "source": [
    "**Learn Foundational Math 3 by Building a Financial App**<br>\n",
    "Each of these steps will lead you toward the Certification Project. Once you complete a step, click to expand the next step."
   ]
  },
  {
   "cell_type": "markdown",
   "metadata": {
    "id": "szp5flp1fA8-"
   },
   "source": [
    "# &darr; **Do this first** &darr;\n",
    "Copy this notebook to your own account by clicking the `File` button at the top, and then click `Save a copy in Drive`. You will need to be logged in to Google. The file will be in a folder called \"Colab Notebooks\" in your Google Drive."
   ]
  },
  {
   "cell_type": "markdown",
   "metadata": {
    "id": "KDloBuvnHQTS"
   },
   "source": [
    "# Step 0 - Acquire the Testing Library"
   ]
  },
  {
   "cell_type": "markdown",
   "metadata": {
    "id": "JiW6TlNezZKS"
   },
   "source": [
    "Please run this code to get the library file from FreeCodeCamp. Each step will use this library to test your code. You do not need to edit anything; just run this code cell and wait a few seconds until it tells you to go on to the next step."
   ]
  },
  {
   "cell_type": "code",
   "execution_count": null,
   "metadata": {
    "colab": {
     "base_uri": "https://localhost:8080/"
    },
    "id": "eTlHceacGa1C",
    "outputId": "625e86f3-a799-4880-e4bd-7c261d2b0fd1"
   },
   "outputs": [],
   "source": [
    "# You may need to run this cell at the beginning of each new session\n",
    "\n",
    "!pip install requests\n",
    "\n",
    "# This will just take a few seconds\n",
    "\n",
    "import requests\n",
    "\n",
    "# Get the library from GitHub\n",
    "url = 'https://raw.githubusercontent.com/edatfreecodecamp/python-math/main/math-code-test-c.py'\n",
    "r = requests.get(url)\n",
    "\n",
    "# Save the library in a local working directory\n",
    "with open('math_code_test_c.py', 'w') as f:\n",
    "    f.write(r.text)\n",
    "\n",
    "# Now you can import the library\n",
    "import math_code_test_c as test\n",
    "\n",
    "# This will tell you if the code works\n",
    "test.step00()"
   ]
  },
  {
   "cell_type": "markdown",
   "metadata": {
    "id": "r1AM-AcqkbyF"
   },
   "source": [
    "# Step 1 - Graphing Inequalities"
   ]
  },
  {
   "cell_type": "markdown",
   "metadata": {
    "id": "K8rdL_OEkd-t"
   },
   "source": [
    "Learn Inequalities by Building Shaded Graphs. Notice how you set up the plot, like you learned in the last certification. Run the following code and you will see that the graph of y <u>></u> 2x is not quite right. Because y is greater, the shading should be above the line. The second two arguments in the `fill_between()` function give a range of y values to shade. Change just that part of the code to make the graph correct. (Hint: Think about the top of the graph.)\n"
   ]
  },
  {
   "cell_type": "code",
   "execution_count": null,
   "metadata": {
    "colab": {
     "base_uri": "https://localhost:8080/",
     "height": 452
    },
    "id": "QAVgVP3xUd4J",
    "outputId": "e8789371-9c30-44a5-d950-3d7735d927a6"
   },
   "outputs": [],
   "source": [
    "import matplotlib.pyplot as plt\n",
    "import numpy as np\n",
    "\n",
    "xmin = -10\n",
    "xmax = 10\n",
    "ymin = - 10\n",
    "ymax = 10\n",
    "points = 2*(xmax-xmin)\n",
    "x = np.linspace(xmin,xmax,points)\n",
    "\n",
    "fig, ax = plt.subplots()\n",
    "plt.axis([xmin,xmax,ymin,ymax]) # window size\n",
    "plt.plot([xmin,xmax],[0,0],'b') # blue x axis\n",
    "plt.plot([0,0],[ymin,ymax], 'b') # blue y axis\n",
    "\n",
    "plt.title(\"y > 2x\")\n",
    "\n",
    "y1 = 2*x\n",
    "plt.plot(x, y1)\n",
    "\n",
    "# Only change code below this line\n",
    "plt.fill_between(x, y1,ymax)\n",
    "\n",
    "plt.show()\n",
    "\n",
    "\n",
    "# Only change code above this line\n",
    "#import math_code_test_c as test\n",
    "#test.step01(In[-1].split('# Only change code above this line')[0])"
   ]
  },
  {
   "cell_type": "markdown",
   "metadata": {
    "id": "8wXbGsoYkm60"
   },
   "source": [
    "# Step 2 - Graphing inequalities - Part 2"
   ]
  },
  {
   "cell_type": "markdown",
   "metadata": {
    "id": "ehY1G02Dkv7r"
   },
   "source": [
    "The default graph will give you a solid line, but you can change the type of line and the color. As `'b'` is for a solid blue line, `'b--'` will be a dashed blue line and `'r--'` will display a dashed red line. Change the code to graph a dashed red line."
   ]
  },
  {
   "cell_type": "code",
   "execution_count": null,
   "metadata": {
    "colab": {
     "base_uri": "https://localhost:8080/",
     "height": 435
    },
    "id": "3Pp_SmUikwgy",
    "outputId": "c5008ea2-f949-4de4-cc34-89aed0c967ba"
   },
   "outputs": [],
   "source": [
    "import matplotlib.pyplot as plt\n",
    "import numpy as np\n",
    "\n",
    "xmin = -10\n",
    "xmax = 10\n",
    "ymin = - 10\n",
    "ymax = 10\n",
    "points = 2*(xmax-xmin)\n",
    "x = np.linspace(xmin,xmax,points)\n",
    "\n",
    "fig, ax = plt.subplots()\n",
    "plt.axis([xmin,xmax,ymin,ymax]) # window size\n",
    "plt.plot([xmin,xmax],[0,0],'b') # blue x axis\n",
    "plt.plot([0,0],[ymin,ymax], 'b') # blue y axis\n",
    "\n",
    "y1 = 2*x\n",
    "\n",
    "# Only change the next line:\n",
    "plt.plot(x, y1, 'r--')\n",
    "\n",
    "plt.fill_between(x, y1, ymin, color='red', alpha=0.5)\n",
    "\n",
    "plt.show()\n",
    "\n",
    "\n",
    "# Only change code above this line\n",
    "#import math_code_test_c as test\n",
    "#test.step02(In[-1].split('# Only change code above this line')[0])"
   ]
  },
  {
   "cell_type": "markdown",
   "metadata": {
    "id": "tBxuJtHck2Oo"
   },
   "source": [
    "# Step 3 - Making Art with Graphs"
   ]
  },
  {
   "cell_type": "markdown",
   "metadata": {
    "id": "PTr63nCrlTiM"
   },
   "source": [
    "Now plot four inequalities on the graph, in a pattern. Notice how you only need to define the x values once. In the `fill_between()` function notice a fourth argument, `facecolor=`, to indicate a different color for the shaded area. The color name in single quotes, like 'green' or 'yellow' or any common color name. Run the code to see the pattern, then reverse the order of the colors and run it again."
   ]
  },
  {
   "cell_type": "code",
   "execution_count": null,
   "metadata": {
    "colab": {
     "base_uri": "https://localhost:8080/",
     "height": 435
    },
    "id": "Iyoq1h3vlV-a",
    "outputId": "eba25996-8f85-4558-9685-f473184bba66"
   },
   "outputs": [],
   "source": [
    "import matplotlib.pyplot as plt\n",
    "import numpy as np\n",
    "\n",
    "xmin = -10\n",
    "xmax = 10\n",
    "ymin = - 10\n",
    "ymax = 10\n",
    "points = 2*(xmax-xmin)\n",
    "x = np.linspace(xmin,xmax,points)\n",
    "\n",
    "fig, ax = plt.subplots()\n",
    "plt.axis([xmin,xmax,ymin,ymax]) # window size\n",
    "plt.plot([xmin,xmax],[0,0],'b') # blue x axis\n",
    "plt.plot([0,0],[ymin,ymax], 'b') # blue y axis\n",
    "\n",
    "# Only change the lines indicated below\n",
    "\n",
    "# line 1\n",
    "y1 = x+6\n",
    "plt.plot(x, y1)\n",
    "plt.fill_between(x, y1, 10, facecolor='red') # change this line\n",
    "\n",
    "# line 2\n",
    "y2 = x+3\n",
    "plt.plot(x, y2)\n",
    "plt.fill_between(x, y2, y1, facecolor='yellow') # change this line\n",
    "\n",
    "# line 3\n",
    "y3 = x-1\n",
    "plt.plot(x, y3)\n",
    "plt.fill_between(x, y3, y2, facecolor='green') # change this line\n",
    "\n",
    "# line 4\n",
    "y4 = x-4\n",
    "plt.plot(x, y4)\n",
    "plt.fill_between(x, y4, y3, facecolor='blue') # change this line\n",
    "\n",
    "plt.show()\n",
    "\n",
    "\n",
    "\n",
    "# Only change code above this line\n",
    "#import math_code_test_c as test\n",
    "#test.step03(In[-1].split('# Only change code above this line')[0])"
   ]
  },
  {
   "cell_type": "markdown",
   "metadata": {
    "id": "s3z_zaNWlet8"
   },
   "source": [
    "# Step 4 - Monomials"
   ]
  },
  {
   "cell_type": "markdown",
   "metadata": {
    "id": "BTOGQIpElet-"
   },
   "source": [
    "A <i>monomial</i> means \"one thing\" or one term. In a math equation, each term has a sign, a coefficient, and a variable to an exponent. Here are some examples: In the term -3x<sup>2</sup> you can see that the sign is negative, the coefficient is 3, the variable is x, the exponent is 2. The term x also has all of these parts: the sign is positive, the coefficient is 1, the variable is x, and the exponent is 1. In the term 5, the sign is positive, the coefficient is 5, the variable is still x, and the exponent is zero (notice that you don't need to write some of these parts, like x<sup>0</sup>). You can use `sympy` to display monomials nicely. Just run the code to see how this looks.  "
   ]
  },
  {
   "cell_type": "code",
   "execution_count": null,
   "metadata": {
    "colab": {
     "base_uri": "https://localhost:8080/",
     "height": 38
    },
    "id": "oAPKmzeblet_",
    "outputId": "5e448042-1ee5-4727-d5ca-859fc01b6741"
   },
   "outputs": [],
   "source": [
    "from sympy import symbols, Eq\n",
    "\n",
    "x = symbols('x')\n",
    "eq1 = Eq(-2*x**3 , -16)\n",
    "display(eq1)\n",
    "\n",
    "\n",
    "# Just run this code\n",
    "#import math_code_test_c as test\n",
    "#test.step00()"
   ]
  },
  {
   "cell_type": "markdown",
   "metadata": {
    "id": "lnP9BOpPlhdK"
   },
   "source": [
    "# Step 5 - Polynomials"
   ]
  },
  {
   "cell_type": "markdown",
   "metadata": {
    "id": "ABF6PI7TlhdL"
   },
   "source": [
    "A \"monomial\" is one thing. A \"binomial\" is two things. A \"trinomial\" is three things. A \"polynomial\" is many things. In standard form, `x` is the variable; you put your terms in order from highest exponent to lowest; refer to the coefficients with letters in alphabetical order; and set all of this equal to `y` (because it is a function that you can graph). Example: y = ax<sup>4</sup> + bx<sup>3</sup> + cx<sup>2</sup> + dx + e <br>\n",
    "Write code to prompt for integer input and display a polynomial. Remember to use the `**` for exponents. Parts of this are already done for you."
   ]
  },
  {
   "cell_type": "code",
   "execution_count": null,
   "metadata": {
    "colab": {
     "base_uri": "https://localhost:8080/",
     "height": 125
    },
    "id": "USVAJRualhdL",
    "outputId": "6e187711-0c78-4680-8c62-530e162ad224"
   },
   "outputs": [],
   "source": [
    "from IPython.display import display, Math\n",
    "from sympy import *\n",
    "import math\n",
    "\n",
    "x,y = symbols('x y')\n",
    "\n",
    "a = int(input(\"Enter coefficient A: \"))\n",
    "b = int(input(\"Enter coefficient B: \"))\n",
    "# continue this to prompt for variables c and d\n",
    "c = int(input('Enter coefficient C: '))\n",
    "d = int(input('Enter coefficient D: '))\n",
    "e = math.e\n",
    "# change the next line to display the full polynomial\n",
    "y = a*x**3 + b*x**2 + c*x + d+ e\n",
    "\n",
    "print(\"Here is your equation:\")\n",
    "display(Math(\"y = \" + latex(y)))\n",
    "\n",
    "\n",
    "# Only change code above this line\n",
    "#import math_code_test_c as test\n",
    "#test.step05(In[-1].split('# Only change code above this line')[0])"
   ]
  },
  {
   "cell_type": "markdown",
   "metadata": {
    "id": "yoavB8H_ljVn"
   },
   "source": [
    "# Step 6 - Interactive Polynomial Graph"
   ]
  },
  {
   "cell_type": "markdown",
   "metadata": {
    "id": "3yk-TKO6ljVo"
   },
   "source": [
    "For this polynomial, y = ax<sup>2</sup> + bx + c, you can move the sliders to adjust the coefficients and see how that affects the graph. Notice how the `f()` function takes two arguments and the `interactive()` function defines two sliders. Run this code and interact with it. Then add the third coefficient (\"c\") by changing three things: the `def` line so that the function takes three arguments, the `plt.plot` line so that it includes \"+ c\", and the `interactive` line to include a third slider."
   ]
  },
  {
   "cell_type": "code",
   "execution_count": null,
   "metadata": {
    "colab": {
     "base_uri": "https://localhost:8080/",
     "height": 531,
     "referenced_widgets": [
      "adea2c2fa4454f4599122de872178758",
      "cb5cc2cdce1041afac7bef27cda8dc8d",
      "ae170a283bf44283be5334528c5bc448",
      "e41099cd5bdc408eaebd366c68f6c0ef",
      "bd53847bb55f4b6bb1fa5da8df757bec",
      "a83118def13c467283315d0f35861838",
      "a26e10f920574f1d9d041c1f0f4809b0",
      "0ccd325d9db9466bae1bdf95307f383e",
      "8a0003941d7b405d8df9231a4156aeca",
      "5126c90a3a4a423093fc8e765b110026",
      "dec7f51277204224847c3b6209c7c3a9",
      "6c2d93b0219340619ba9586c311fbba6",
      "2e49187496ab4fc896c3a3ba5f6695c1"
     ]
    },
    "id": "sOecWXLOljVo",
    "outputId": "4141efc8-26c4-4d3c-ffdd-8972741b5cf2"
   },
   "outputs": [],
   "source": [
    "%matplotlib inline\n",
    "from ipywidgets import interactive\n",
    "import matplotlib.pyplot as plt\n",
    "import numpy as np\n",
    "\n",
    "# Change the next line:\n",
    "def f(a, b, c):\n",
    "    plt.axis([-10,10,-10,10]) # window size\n",
    "    plt.plot([-10,10],[0,0],'k') # blue x axis\n",
    "    plt.plot([0,0],[-10,10], 'k') # blue y axis\n",
    "    x = np.linspace(-10, 10, 200)\n",
    "    plt.plot(x, a*x**2+b*x+c) # Change this line\n",
    "    plt.show()\n",
    "\n",
    "# Change the next line:\n",
    "interactive_plot = interactive(f, a=(-9, 9), b=(-9, 9), c=(-9, 9))\n",
    "display(interactive_plot)\n",
    "\n",
    "\n",
    "# Only change code above this line\n",
    "#import math_code_test_c as test\n",
    "#test.step06(In[-1].split('# Only change code above this line')[0])"
   ]
  },
  {
   "cell_type": "markdown",
   "metadata": {
    "id": "MlRfYVIylkQf"
   },
   "source": [
    "# Step 7 - Exponential Functions"
   ]
  },
  {
   "cell_type": "markdown",
   "metadata": {
    "id": "H16dtXc0lkQg"
   },
   "source": [
    "The general formula for an `exponential function` is $y = a*b^{x}$ (where `a` and `b` are constants and `x` is the variable in the exponent). The shape of exponential graphs, especially when not drawn to scale, are very consistent, so the numerical values are more important to calculate. Things that grow exponentially include populations, investments, and other \"percent increase\" situations. Run this code and use the sliders to see the slight changes. Notice the scale. Then change the slider so that `a` has negative values from -9 to -1 and see how that changes the graph."
   ]
  },
  {
   "cell_type": "code",
   "execution_count": null,
   "metadata": {
    "colab": {
     "base_uri": "https://localhost:8080/",
     "height": 499,
     "referenced_widgets": [
      "2b5eb5d013d244f89f684a29e821553f",
      "ad1fbe1fb97b4427bc6a96a3aadb6cfa",
      "9affe3ddb0f04d84ac8fc99441eb0720",
      "0640423dc2cc4d3db3e6ce72a86475fd",
      "cfb5e5e1c3a44ebc8988e5a4c9f92463",
      "c67ad9e611714d448348b9ab313c17b4",
      "b23e6f88363d4c2ba620612c994ce5c1",
      "83227c64b9dd4ee79a32ffa56c421e78",
      "8614ebbf54a844048724e8557650fb46",
      "aeed8f859e0a4db4b018a1f0ec15e2fa"
     ]
    },
    "id": "8KIMFu7LlkQg",
    "outputId": "ed62af7d-cf55-45e4-c733-233c33597167"
   },
   "outputs": [],
   "source": [
    "%matplotlib inline\n",
    "from ipywidgets import interactive\n",
    "import matplotlib.pyplot as plt\n",
    "import numpy as np\n",
    "\n",
    "xmin = -10\n",
    "xmax = 10\n",
    "ymin = -100\n",
    "ymax = 100\n",
    "\n",
    "def f(a, b):\n",
    "    plt.axis([xmin,xmax,ymin,ymax]) # window size\n",
    "    plt.plot([xmin,xmax],[0,0],'k') # x axis\n",
    "    plt.plot([0,0],[ymin,ymax], 'k') # y axis\n",
    "    x = np.linspace(xmin, xmax, 1000)\n",
    "    plt.plot(x, a*b**x)\n",
    "    plt.show()\n",
    "\n",
    "# Only change the next line:\n",
    "interactive_plot = interactive(f, a=(-9, -1), b=(1, 9))\n",
    "display(interactive_plot)\n",
    "\n",
    "\n",
    "# Only change code above this line\n",
    "#import math_code_test_c as test\n",
    "#test.step07(In[-1].split('# Only change code above this line')[0])"
   ]
  },
  {
   "cell_type": "markdown",
   "metadata": {
    "id": "NGH1FcttllvS"
   },
   "source": [
    "# Step 8 - Percent Increase"
   ]
  },
  {
   "cell_type": "markdown",
   "metadata": {
    "id": "KLKYiioGllvT"
   },
   "source": [
    "One formula for calculating a percent increase is <b>A = P(1 + r)<sup>t</sup></b> where `A` would be the `y` value on a graph and `t` would be the `x` value. `A` is the <i>annuity</i>, which is the amount you have at the end. `P` is the <i>principle</i>, which is the amount you have at the beginning. `R` (usually not capitalized) is the <i>rate</i>, a percent converted to a decimal. The exponent `t` represents <i>time</i>, usually in years. The code already prompts for `P`, `r` and `t`, so use those variables to calculate the annuity value."
   ]
  },
  {
   "cell_type": "code",
   "execution_count": null,
   "metadata": {
    "colab": {
     "base_uri": "https://localhost:8080/"
    },
    "id": "Vkp6zmxIllvT",
    "outputId": "0ce38306-fd0f-4fb9-e7a1-752fe9e3e751"
   },
   "outputs": [],
   "source": [
    "p = float(input(\"Starting amount = \"))\n",
    "r = float(input(\"Enter the percentage rate, converted to a decimal: \"))\n",
    "t = float(input(\"How many years will this investment grow? \"))\n",
    "\n",
    "# Change the next line to calculate the annuity\n",
    "a = p * ((1 + r)**t - 1) / r\n",
    "\n",
    "print(\"The annuity is \", a)\n",
    "\n",
    "\n",
    "# Only change code above this line\n",
    "#import math_code_test_c as test\n",
    "#test.step08(In[-1].split('# Only change code above this line')[0])"
   ]
  },
  {
   "cell_type": "markdown",
   "metadata": {
    "id": "Sx0kwIdalmmY"
   },
   "source": [
    "# Step 9 - Percent Decrease"
   ]
  },
  {
   "cell_type": "markdown",
   "metadata": {
    "id": "Wx7fXQDKlmmZ"
   },
   "source": [
    "The percent decrease formula is very similar, except you subtract the rate, so the formula is <b>A = P(1 - r)<sup>t</sup></b>. Some things that decrease by a percent include car values, decay of some elements, and sales discounts. Use the existing variables to calculate the final value (`a`)."
   ]
  },
  {
   "cell_type": "code",
   "execution_count": null,
   "metadata": {
    "colab": {
     "base_uri": "https://localhost:8080/"
    },
    "id": "zJmQoa6YlmmZ",
    "outputId": "34e7ac97-85f8-4d46-d6a2-8729753751d0"
   },
   "outputs": [],
   "source": [
    "p = float(input(\"Starting amount = \"))\n",
    "r = float(input(\"Enter the percentage rate, converted to a decimal: \"))\n",
    "t = float(input(\"How many years will this decrease continue? \"))\n",
    "\n",
    "# Change the next line to calculate the final amount\n",
    "a = p * (1 - r)**t\n",
    "\n",
    "print(\"The final amount is \", a)\n",
    "\n",
    "# Only change code above this line\n",
    "#import math_code_test_c as test\n",
    "#test.step09(In[-1].split('# Only change code above this line')[0])"
   ]
  },
  {
   "cell_type": "markdown",
   "metadata": {
    "id": "S-DVSzwDvKvE"
   },
   "source": [
    "#Step 10 - Compound Interest"
   ]
  },
  {
   "cell_type": "markdown",
   "metadata": {
    "id": "qf181QFOvCgd"
   },
   "source": [
    "When you use percent increase formulas for money in the bank, it's called <i>compound interest</i>. The amount of money you earn beyond the original principle is the interest. When the bank calculates the interest and adds it to the principle, that process is called <i>compounding</i> and it can happen any number of times per year. The formula is <b> A = P(1 + $\\frac{r}{n}$)<sup>nt</sup></b> where <i>n</i> is the number of times the bank compounds the money per year. Notice that if n = 1 then this formula is the same as the formula from an earlier step. Write the code to calculate the annuity (hint: use extra parentheses)."
   ]
  },
  {
   "cell_type": "code",
   "execution_count": null,
   "metadata": {
    "colab": {
     "base_uri": "https://localhost:8080/"
    },
    "id": "O0FAXixVvGXh",
    "outputId": "70cf0dd1-2e77-46a7-fc7c-45da8c9965f3"
   },
   "outputs": [],
   "source": [
    "p = float(input(\"Starting amount: \"))\n",
    "r = float(input(\"Percentage rate, converted to a decimal: \"))\n",
    "t = float(input(\"Number of years this investment will grow: \"))\n",
    "n = int(input(\"Number of times compounded per year: \"))\n",
    "\n",
    "# Change the next line to calculate the annuity\n",
    "annuity = p * (1 + r/n)**(n*t)\n",
    "\n",
    "print(\"The annuity is \", annuity)\n",
    "\n",
    "\n",
    "# Only change code above this line\n",
    "#import math_code_test_c as test\n",
    "#test.step10(In[-1].split('# Only change code above this line')[0])"
   ]
  },
  {
   "cell_type": "markdown",
   "metadata": {
    "id": "H6LTAPYplxvi"
   },
   "source": [
    "# Step 11 - Continuous Growth"
   ]
  },
  {
   "cell_type": "markdown",
   "metadata": {
    "id": "5oRPxD6olxvi"
   },
   "source": [
    "In the first formula, A = P(1 + r)<sup>t</sup>, money is compounded annually.<br>\n",
    "In the second formula, A = P(1 + $\\frac{r}{n})^{nt}$, money is compounded `n` times per year.<br>\n",
    "As `n` gets to be a really big number, you get a different formula, A = Pe$^{rt}$, for continuous growth.<br>\n",
    "In this formula, `e` is a constant, about equal to 2.718281828. The following code already prompts for the four variables once. Use those variables to compare the annuity from the three formulas. Notice you need to `import math` to use `math.e` (the best approximation of e)."
   ]
  },
  {
   "cell_type": "code",
   "execution_count": null,
   "metadata": {
    "colab": {
     "base_uri": "https://localhost:8080/"
    },
    "id": "kf3Q0Yg7lxvk",
    "outputId": "22e94a88-da0a-4a0c-fdc8-c4d2e5180063"
   },
   "outputs": [],
   "source": [
    "import math\n",
    "\n",
    "p = float(input(\"Principle: \"))\n",
    "r = float(input(\"Rate: \"))\n",
    "t = int(input(\"Time: \"))\n",
    "n = int(input(\"N: \"))\n",
    "\n",
    "# Only change the following three formulas:\n",
    "a_annual = p * (1 + r)**t\n",
    "a_n_times = p * (1 + r/n)**(n*t)\n",
    "a_continuous =  p * math.e**(r*t)\n",
    "\n",
    "# Only change the code above this line\n",
    "\n",
    "print(\"Compounded annually, anuity = \", a_annual)\n",
    "print(\"Compounded \", n, \"times per year, anuity = \", a_n_times)\n",
    "print(\"Compounded continuously, anuity = \", a_continuous)\n",
    "\n",
    "\n",
    "# Only change code above this line\n",
    "#import math_code_test_c as test\n",
    "#test.step11(In[-1].split('# Only change code above this line')[0])"
   ]
  },
  {
   "cell_type": "markdown",
   "metadata": {
    "id": "iaEBltZXln-Q"
   },
   "source": [
    "# Step 12 - Investments"
   ]
  },
  {
   "cell_type": "markdown",
   "metadata": {
    "id": "JTQ9uZw3UeGT"
   },
   "source": [
    "If you have an investment where you contrubute money every month and the value also increases by a consistent percentage, you can create a loop to calculate the accumulated value. In each iteration, use the <i>simple interest</i> formula: interest = principle * rate * time. (Hint: for one month, t = $\\frac{1}{12}$ or you can just divide by 12.)"
   ]
  },
  {
   "cell_type": "code",
   "execution_count": null,
   "metadata": {
    "colab": {
     "base_uri": "https://localhost:8080/"
    },
    "id": "t7sRzH5Oln-R",
    "outputId": "f98994ba-a7ab-4d30-ba4b-81e6908364fb"
   },
   "outputs": [],
   "source": [
    "p = float(input(\"Starting amount: \"))\n",
    "r = float(input(\"Annual percentage rate: \"))\n",
    "t = int(input(\"Number of years: \"))\n",
    "monthly = float(input(\"Monthly contribution: \"))\n",
    "\n",
    "# Hint: keep updating this annuity variable in the loop\n",
    "annuity = p\n",
    "\n",
    "# Each iteration of the loop represents one month\n",
    "for a in range(12*t):\n",
    "    annuity = annuity + monthly\n",
    "    # Change the next line to calculate the interest\n",
    "    interest = annuity * r/12\n",
    "    annuity = annuity + interest\n",
    "\n",
    "# Keep this line:\n",
    "print(\"Annuity = \", annuity)\n",
    "\n",
    "\n",
    "# Only change code above this line\n",
    "#import math_code_test_c as test\n",
    "#test.step12(p,r,t,monthly,annuity)"
   ]
  },
  {
   "cell_type": "markdown",
   "metadata": {
    "id": "l5GwlqRdlpEu"
   },
   "source": [
    "# Step 13 - Mortgage Payments"
   ]
  },
  {
   "cell_type": "markdown",
   "metadata": {
    "id": "50OH4hj8lpEv"
   },
   "source": [
    "When borrowing a large amount of money over a long period of time, the formula to calculate monthly payments gets complicated. Here it is:<br>\n",
    " monthly payment = P$\\frac{\\frac{r}{12}(1 + \\frac{r}{12})^{12t}}{(1 + \\frac{r}{12})^{12t} - 1}$ where, as usual, `P` is the principle, `r` is the annual interest rate (as a decimal), and  `t` is the time in years. Write the code to prompt for these variables and calculate the monthly payment. Hint: Use other variables and do this in steps."
   ]
  },
  {
   "cell_type": "code",
   "execution_count": null,
   "metadata": {
    "colab": {
     "base_uri": "https://localhost:8080/"
    },
    "id": "E5X8_WbnlpEv",
    "outputId": "877ab84b-92ea-4492-d95b-55c5ae4d3e34"
   },
   "outputs": [],
   "source": [
    "p = float(input(\"Amount borrowed: \"))\n",
    "r = float(input(\"Annual percentage rate: \"))\n",
    "t = float(input(\"Number of years: \"))\n",
    "\n",
    "# Write your code here and change the pmt variable\n",
    "\n",
    "pmt = p * r/12 * (1 + r/12)**(12**t)/ ((1 + r/12)**(12**t) - 1)\n",
    "\n",
    "\n",
    "print(\"Monthly payment = $\", pmt)\n",
    "\n",
    "\n",
    "# Only change code above this line\n",
    "#import math_code_test_c as test\n",
    "#test.step13(p,r,t,pmt)"
   ]
  },
  {
   "cell_type": "markdown",
   "metadata": {
    "id": "8vdTo36Pl0yv"
   },
   "source": [
    "# Step 14 - Exponents and Logarithms"
   ]
  },
  {
   "cell_type": "markdown",
   "metadata": {
    "id": "gyMju8CVl0yw"
   },
   "source": [
    "Exponential functions and logarithmic functions are inverses of each other. Here is an example: <b>2<sup>4</sup> = 16</b> and <b>log<sub>2</sub>16 = 4</b>. Both have the same information rearranged in different ways. If you had 2<sup>4</sup> = x you would be able to do that easily, but if you had 2<sup>x</sup> = 16 it would be more difficult. You could write that last equation as a logarithm: log<sub>2</sub>16 = x. In Python, you would write this as `math.log(16,2)`. In both cases, you would read it as \"the log, base 2, of 16\" and the answer would be an exponent. The logarithm is especially useful when the exponent is not a nice integer. Write code to prompt for the base and the result, then use logarithms to calculate the exponent."
   ]
  },
  {
   "cell_type": "code",
   "execution_count": null,
   "metadata": {
    "colab": {
     "base_uri": "https://localhost:8080/"
    },
    "id": "ehtA_ATbl0yw",
    "outputId": "aac44e90-1655-48da-b797-823fd218a627"
   },
   "outputs": [],
   "source": [
    "import math\n",
    "\n",
    "base = float(input(\"base: \"))\n",
    "result = float(input(\"result: \"))\n",
    "\n",
    "# Just change the next line:\n",
    "exp = math.log(result, base)\n",
    "\n",
    "print(\"exponent = \", exp)\n",
    "\n",
    "\n",
    "# Only change code above this line\n",
    "#import math_code_test_c as test\n",
    "#test.step14(In[-1].split('# Only change code above this line')[0])"
   ]
  },
  {
   "cell_type": "markdown",
   "metadata": {
    "id": "U_7bv7aG4UJe"
   },
   "source": [
    "# Step 15 - Natural Logs"
   ]
  },
  {
   "cell_type": "markdown",
   "metadata": {
    "id": "uKjifZw04UJe"
   },
   "source": [
    "If you know the rate, how long will it take for something to double?\n",
    "Start with the continuous growth formula:<br>\n",
    "A = Pe<sup>rt</sup><br>\n",
    "If annuity is two times the principle, divide both sides by P\n",
    "and get this:<br>\n",
    "2 = e<sup>rt</sup><br>\n",
    "Because of the base <i>e</i>, take the natural log of both sides and get this:<br>\n",
    "ln(2) = rt<br>\n",
    "Then divide by r to solve for t or divide by t to solve for r. In Python, use `math.log()` with one argument and no base to calculate natural log (which is a logarithm with base e). So the natural log of 2 is `math.log(2)`. Just run the code to see this example."
   ]
  },
  {
   "cell_type": "code",
   "execution_count": null,
   "metadata": {
    "colab": {
     "base_uri": "https://localhost:8080/"
    },
    "id": "dM3RxByK4UJe",
    "outputId": "3529308b-adfe-4651-db53-4fdbb9f9203e"
   },
   "outputs": [],
   "source": [
    "import math\n",
    "\n",
    "r = float(input(\"Enter the annual rate as a decimal: \\n\"))\n",
    "t = math.log(2)/r\n",
    "print(\"Your money will double in \", t, \" years\")\n",
    "\n",
    "\n",
    "# Just run this code\n",
    "#import math_code_test_c as test\n",
    "#test.step00()"
   ]
  },
  {
   "cell_type": "markdown",
   "metadata": {
    "id": "B7DOz9nh4XAb"
   },
   "source": [
    "# Step 16 - Common Logs"
   ]
  },
  {
   "cell_type": "markdown",
   "metadata": {
    "id": "MD3dH5yF4XAb"
   },
   "source": [
    "The <i>common log</i> is base 10, because that is our number system. Run this code a few times to see how the exponents relate to moving the decimal point to get the resulting number. Notice the floor function. Then take out the floor function to see the exact logarithm."
   ]
  },
  {
   "cell_type": "code",
   "execution_count": null,
   "metadata": {
    "colab": {
     "base_uri": "https://localhost:8080/"
    },
    "id": "n390hG0GcEXI",
    "outputId": "beaf3c5d-a8f8-4879-8f98-4476e049b088"
   },
   "outputs": [],
   "source": [
    "import math\n",
    "\n",
    "n = input('Enter a number with several digits or several decimal places: ')\n",
    "n = float(n)\n",
    "\n",
    "\n",
    "# Rund the code then change the next line:\n",
    "exp = math.floor(math.log(n, 10))\n",
    "\n",
    "# This avoids a weird Python quirk:\n",
    "if n==1000:\n",
    "    exp = 3;\n",
    "\n",
    "print(\"exponent = \", exp)\n",
    "\n",
    "\n",
    "# Only change code above this line\n",
    "#import math_code_test_c as test\n",
    "#test.step16(In[-1].split('# Only change code above this line')[0])"
   ]
  },
  {
   "cell_type": "markdown",
   "metadata": {
    "id": "cqvLtj7t4VMN"
   },
   "source": [
    "# Step 17 - Scientific Notation"
   ]
  },
  {
   "cell_type": "markdown",
   "metadata": {
    "id": "-Uh4YmRt4VMN"
   },
   "source": [
    "<i>Scientific Notation</i> is a way of writing very large or very small numbers without all of the zeros or decimal places. For example, 45,000,000 could be written as 4.5 x 10<sup>7</sup> in scientific notation and 0.00000045 could be written as 4.5 x 10<sup>-7</sup>. The notation requires base 10, so it will always use the structure <b>n $*$ 10<sup>x</sup></b> where n is one digit then the decimal point. Change the code below to print each number in scientific notation. Determine the value of each variable by counting (not writing code). You will automate this process in the next step."
   ]
  },
  {
   "cell_type": "code",
   "execution_count": null,
   "metadata": {
    "colab": {
     "base_uri": "https://localhost:8080/"
    },
    "id": "UyPF6dKz4VMO",
    "outputId": "7517aec3-0356-40dd-af7b-09e43204b935"
   },
   "outputs": [],
   "source": [
    "a = 156000000000\n",
    "b = 0.000000000413\n",
    "\n",
    "# Change the code below this line\n",
    "\n",
    "a1 = 1.56\n",
    "a2 = 11\n",
    "b1 = 4.13\n",
    "b2 = -10\n",
    "\n",
    "print(a, \" = \", a1, \"* 10^\", a2)\n",
    "\n",
    "print(b, \" = \", b1, \"* 10^\", b2)\n",
    "\n",
    "\n",
    "# Only change code above this line\n",
    "#import math_code_test_c as test\n",
    "#test.step17(b1,b2)"
   ]
  },
  {
   "cell_type": "markdown",
   "metadata": {
    "id": "GsLj1NhZl1ya"
   },
   "source": [
    "#Step 18 - Logs and Scientific Notation"
   ]
  },
  {
   "cell_type": "markdown",
   "metadata": {
    "id": "uhWbIGVml1yb"
   },
   "source": [
    "Writing code for scientific notation, you will make use of logarithms with base 10. Remember that scientific notation is in the form n $*$ 10<sup>x</sup> where `n` is one digit and then a decimal. To convert a number to scientific notation, take the log of the number and use the `floor()` function to get the expoenent (just as you did in a previous step). Divide the original number by 10 to that exponent and you get `n` (hint: dividing by 10<sup>x</sup> is the same as multiplying by 10<sup>-x</sup>). Rounding is usually necessary. Write the code to convert numbers to scientific notation."
   ]
  },
  {
   "cell_type": "code",
   "execution_count": null,
   "metadata": {
    "colab": {
     "base_uri": "https://localhost:8080/"
    },
    "id": "y8PXrFCYl1yb",
    "outputId": "f69c5757-400a-43e0-c670-b63d6782c160"
   },
   "outputs": [],
   "source": [
    "import math\n",
    "\n",
    "a = .00000000000234\n",
    "b = 12300000000000\n",
    "\n",
    "# Use these three lines as a model\n",
    "x1 = math.floor(math.log(a,10))\n",
    "n1 = round(a*10**(-x1),2)\n",
    "print(\"a = \", n1, \"* 10^\", x1)\n",
    "\n",
    "# Change the next two lines to match the model\n",
    "x2 = math.floor(math.log(b,10))\n",
    "n2 = round(b*10**(-x2), 2)\n",
    "print(\"b = \", n2, \"* 10^\", x2)\n",
    "\n",
    "\n",
    "\n",
    "# Only change code above this line\n",
    "#import math_code_test_c as test\n",
    "#test.step18(In[-1].split('# Only change code above this line')[0])"
   ]
  },
  {
   "cell_type": "markdown",
   "metadata": {
    "id": "d7Lc9KfMYU8Y"
   },
   "source": [
    "# Step 19 - Scientific Notation Conversion"
   ]
  },
  {
   "cell_type": "markdown",
   "metadata": {
    "id": "21gdVKfeYc5R"
   },
   "source": [
    "Now ask for a number as input, and write the code to convert that number into scientific notation. You can re-use code you used in the previous step, using `n` and `x` as variables to print n * 10^x."
   ]
  },
  {
   "cell_type": "code",
   "execution_count": null,
   "metadata": {
    "colab": {
     "base_uri": "https://localhost:8080/"
    },
    "id": "VkOkpmrP4XAb",
    "outputId": "e61f7dde-f449-4c7e-e9e4-16cf4d617944"
   },
   "outputs": [],
   "source": [
    "import math\n",
    "\n",
    "a = float(input('Enter a number to convert to scientific notation: '))\n",
    "\n",
    "# write your code here\n",
    "\n",
    "x = math.floor(math.log(a,10))\n",
    "n = round(a*10**(-x), 2)\n",
    "\n",
    "print(a, \" = \", n, \"* 10^\", x)\n",
    "\n",
    "# Only change code above this line\n",
    "#import math_code_test_c as test\n",
    "#test.step19(In[-1].split('# Only change code above this line')[0])"
   ]
  },
  {
   "cell_type": "markdown",
   "metadata": {
    "id": "VkD30ljxlyw9"
   },
   "source": [
    "# Step 20 - Graphing Exponents and Logs"
   ]
  },
  {
   "cell_type": "markdown",
   "metadata": {
    "id": "A7YL0fIdlyw-"
   },
   "source": [
    "When not writing code, the <i>natural log</i> is written as \"ln\" and it means a logarithm with base e. Like any pair of inverse functions, the line y = e<sup>x</sup> and the line y = ln(x) are mirrored over the line y = x.  Because of the `np.linspace()` function in this code, `np.log()` works, but `math.log()` does not work here. Both log() functions in Python use e as the base by default. When using the `numpy` library, use `np.log10()` for base 10, `np.log2()` for base 2, etc. Because log functions can only have positive x values, the np.linspace() function will define a positive range for the log() function. Run this code, then change the blue line function to graph y = 2<sup>x</sup> and change the green line function to graph y = log<sub>2</sub>x and notice the similarities between the graphs."
   ]
  },
  {
   "cell_type": "code",
   "execution_count": null,
   "metadata": {
    "colab": {
     "base_uri": "https://localhost:8080/",
     "height": 435
    },
    "id": "fJiDmoW1lyw_",
    "outputId": "c3d6143b-4b42-47d1-873d-21d0997c1e92"
   },
   "outputs": [],
   "source": [
    "import matplotlib.pyplot as plt\n",
    "import numpy as np\n",
    "import math\n",
    "\n",
    "xmin = -10\n",
    "xmax = 10\n",
    "ymin = -10\n",
    "ymax = 10\n",
    "plt.axis([xmin,xmax,ymin,ymax]) # window size\n",
    "plt.plot([xmin,xmax],[0,0],'k') # x axis\n",
    "plt.plot([0,0],[ymin,ymax], 'k') # y axis\n",
    "\n",
    "# Same x values for two lines\n",
    "x1 = np.linspace(xmin, xmax, 1000)\n",
    "\n",
    "# Blue line for y = e^x\n",
    "plt.plot(x1, math.e**x1, 'g')  # Change this line\n",
    "\n",
    "# Red line for y = x\n",
    "plt.plot(x1, x1, 'r')\n",
    "\n",
    "# Different x values for y = log(x) because x > 0\n",
    "x2 = np.linspace(.001, xmax, 500)\n",
    "\n",
    "# Green line for y = log(x)\n",
    "plt.plot(x2, np.log(x2), np.log2(x))  # Change this line\n",
    "\n",
    "plt.show()\n",
    "\n",
    "\n",
    "# Only change code above this line\n",
    "#import math_code_test_c as test\n",
    "#test.step20(In[-1].split('# Only change code above this line')[0])"
   ]
  },
  {
   "cell_type": "markdown",
   "metadata": {
    "id": "bJzxcKIfz8Qt"
   },
   "source": [
    "# Step 21 - Log Application - pH Scale"
   ]
  },
  {
   "cell_type": "markdown",
   "metadata": {
    "id": "pfF3voqSz8Q9"
   },
   "source": [
    "The pH scale, for measuring acids and bases, is a logarithmic scale. The negative log of the hydrogen concentration is the pH. Example: if the hydrogen concentration is .007 then that would be 7 * 10<sup>-3</sup> and therefore a pH of 3. Write the code to prompt for hydrogen concentration and then print the pH. Hint: the <i>ceiling</i> function (`math.ceil()`) works better than rounding here."
   ]
  },
  {
   "cell_type": "code",
   "execution_count": null,
   "metadata": {
    "colab": {
     "base_uri": "https://localhost:8080/"
    },
    "id": "tepkvSubz8Q9",
    "outputId": "e56f17b2-b4ce-4f91-ee9f-729e802b0753"
   },
   "outputs": [],
   "source": [
    "import math\n",
    "\n",
    "decimal = float(input(\"Enter the hydrogen concentration as a decimal number: \"))\n",
    "\n",
    "# Write your code here\n",
    "h = math.ceil(-math.log10(decimal))\n",
    "\n",
    "print(\"pH = \", h)\n",
    "\n",
    "# Only change code above this line\n",
    "#import math_code_test_c as test\n",
    "#test.step21(In[-1].split('# Only change code above this line')[0])"
   ]
  },
  {
   "cell_type": "markdown",
   "metadata": {
    "id": "8iWUAktvPLYp"
   },
   "source": [
    "# Step 22 - Functions for the Project"
   ]
  },
  {
   "cell_type": "markdown",
   "metadata": {
    "id": "a9gRwbr-PGPC"
   },
   "source": [
    "Define a function for calculating mortgage payments and a function for calculating investment balance. Use code you wrote in earlier steps. Each function should prompt for input and print the output."
   ]
  },
  {
   "cell_type": "code",
   "execution_count": null,
   "metadata": {
    "colab": {
     "base_uri": "https://localhost:8080/"
    },
    "id": "neFvvCOzO_WB",
    "outputId": "db246cfc-ca09-4d6d-e96e-b06915bdd4e7"
   },
   "outputs": [],
   "source": [
    "# Write your code here\n",
    "def mortgage_payment():\n",
    "  principle = eval(input(\"Enter the prinicple: \"))\n",
    "  rate = eval(input('Enter the annual interest rate: '))\n",
    "  loan_term = eval(input('Enter the loan term in years:'))\n",
    "\n",
    "  # M = P [r(1+r)^n] / [(1+r)^n – 1]\n",
    "  n = 12*loan_term\n",
    "  r_monthly = rate/12\n",
    "  pmt = principle * r_monthly * (1 + r_monthly)**n / ((1 + r_monthly)**n - 1)\n",
    "  print(\"Monthly payment = $\", pmt)\n",
    "mortgage_payment()\n",
    "\n",
    "def investment_balance():\n",
    "  p = float(input(\"Starting amount: \"))\n",
    "  r = float(input(\"Annual percentage rate: \"))\n",
    "  t = int(input(\"Number of years: \"))\n",
    "  monthly = float(input(\"Monthly contribution: \"))\n",
    "  investment_balance = p*(1+r*t)\n",
    "  print(\"Invaesment balance = \", investment_balance)\n",
    "investment_balance()\n",
    "\n",
    "# This step does not have a test"
   ]
  },
  {
   "cell_type": "markdown",
   "metadata": {
    "id": "rzaQj8dEOfzb"
   },
   "source": [
    "# Step 23 - More Functions"
   ]
  },
  {
   "cell_type": "markdown",
   "metadata": {
    "id": "C6OV8KzQOTS_"
   },
   "source": [
    "Create a function that produces an interactive polynomial graph (with sliders). Use code from an earlier step."
   ]
  },
  {
   "cell_type": "code",
   "execution_count": null,
   "metadata": {
    "colab": {
     "base_uri": "https://localhost:8080/",
     "height": 531,
     "referenced_widgets": [
      "75b7e712823f458e9d16d469ff7b6a36",
      "6db2190ccbf5429680cb9d8621266bbf",
      "5550c96207774e598db706f95cc6b30a",
      "6f0c18727bb14c159cbe8ca47359b594",
      "1622d8b870894b608fb8a24a8e9757f9",
      "80503f7176f04db59a36cca902af63bd",
      "7194597b28ff4a20a545d30fcc719319",
      "d9170576e49a4d7cb589eb430b5cce7f",
      "87189fe1152e4461b876986cc2b15627",
      "f8e919cc9ed34da29c186a88e947ae03",
      "1bee7187ebfa4ed49967f7fd14537c6a",
      "7c22c93d95a940a5b3777cb9368d8225",
      "917eaa87928848e8973cf42cf2cac791"
     ]
    },
    "id": "6cGh0vE1OYyC",
    "outputId": "e6794dfd-c6c3-4a1a-ae1e-9cb024311b8b"
   },
   "outputs": [],
   "source": [
    "%matplotlib inline\n",
    "from ipywidgets import interactive\n",
    "import matplotlib.pyplot as plt\n",
    "import numpy as np\n",
    "\n",
    "\n",
    "def f(a, b, c):\n",
    "    plt.axis([-20,20,-20,20]) # window size\n",
    "    plt.plot([-20,20],[0,0],'black') # blue x axis\n",
    "    plt.plot([0,0],[-20,20], 'black') # blue y axis\n",
    "    x = np.linspace(-10, 10, 200)\n",
    "    plt.plot(x, a*x**2+b*x+c)\n",
    "    plt.show()\n",
    "\n",
    "\n",
    "interactive_plot = interactive(f, a=(-19, 9), b=(-2, 9), c=(-9, 1))\n",
    "display(interactive_plot)\n",
    "\n"
   ]
  },
  {
   "cell_type": "markdown",
   "metadata": {
    "id": "UptjjiCOTSS2"
   },
   "source": [
    "# Step 24 - New Function"
   ]
  },
  {
   "cell_type": "markdown",
   "metadata": {
    "id": "XKXNbHzGTKAp"
   },
   "source": [
    "Create a function to print the time required for money to double, given the rate. Use the continuous growth formula from an earlier step."
   ]
  },
  {
   "cell_type": "code",
   "execution_count": null,
   "metadata": {
    "colab": {
     "base_uri": "https://localhost:8080/"
    },
    "id": "kWs_IpxrTYyl",
    "outputId": "fd8075eb-57d4-4081-9b21-415f85e72f5c"
   },
   "outputs": [],
   "source": [
    "# Write your code here\n",
    "import math\n",
    "def double_time():\n",
    "  r = float(input(\"Enter the annual rate as a decimal: \\n\"))\n",
    "  t = math.log(2)\n",
    "  print(\"Your money will double in\", t, \"years\")\n",
    "  return t\n",
    "double_time()\n",
    "\n",
    "# This step does not have a test\n"
   ]
  },
  {
   "cell_type": "markdown",
   "metadata": {
    "id": "CRa5i8s3UCuL"
   },
   "source": [
    "# Step 25 - Certification Project 3"
   ]
  },
  {
   "cell_type": "markdown",
   "metadata": {
    "id": "nngVpvqeT4U7"
   },
   "source": [
    "Build a financial app that does all of the following:<br>\n",
    "<ul>\n",
    "<li>Calculate annuity with monthly or continuous growth</li>\n",
    "<li>Calculate monthly mortgage payment</li>\n",
    "<li>Estimate retirement investment balance</li>\n",
    "<li>Determine how long until an amount doubles, given the rate</li>\n",
    "<li>Solve logarithmic equations</li>\n",
    "<li>Convert to (and from) scientific notation</li>\n",
    "</ul>"
   ]
  },
  {
   "cell_type": "code",
   "execution_count": null,
   "metadata": {
    "colab": {
     "base_uri": "https://localhost:8080/"
    },
    "id": "fa2o--pDT-Sd",
    "outputId": "876ba985-50bb-4fce-d337-74ff7e2ab1fb"
   },
   "outputs": [],
   "source": [
    "# Write your code here\n",
    "def finiance_app():\n",
    "  print(\"Financial App\")\n",
    "  print(\"1. Calculate annuity with monthly or continuous growth\")\n",
    "  print(\"2. Calculate monthly mortgage payment\")\n",
    "  print(\"3. Estimate retirement investment balance\")\n",
    "  print(\"4. Determine how long until an amount doubles, given the rate\")\n",
    "  print(\"5. Solve logarithmic equations\")\n",
    "  print(\"6. Convert to (and from) scientific notation\")\n",
    "  choice = int(input(\"Enter the choice: \"))\n",
    "\n",
    "  if choice == 1:\n",
    "     PMT = float(input(\"Enter the payment: \"))\n",
    "     i = float(input(\"Enter the interest rate (as a decimal): \"))\n",
    "     n = float(input(\"Enter the number of payments: \"))\n",
    "\n",
    "     FV = PMT * ((1 + i)**n - 1) / i\n",
    "     print(\"The future value is\", FV)\n",
    "\n",
    "  elif choice == 2:\n",
    "    p = float(input(\"Amount borrowed: \"))\n",
    "    r = float(input(\"Annual percentage rate: \"))\n",
    "    t = float(input(\"Number of years: \"))\n",
    "    pmt = p * r/12 * (1 + r/12)**(12**t)/ ((1 + r/12)**(12**t) - 1)\n",
    "    print(\"Monthly payment = $\", pmt)\n",
    "\n",
    "  elif choice == 3:\n",
    "    PV = float(input(\"Enter the present value: \"))\n",
    "    PMT = float(input(\"Enter the amount you plan to contribute each year: \"))\n",
    "    r = float(input(\"Enter the interest rate (as a decimal): \"))\n",
    "    n = float(input(\"Enter the number of years you plan to invest: \" ))\n",
    "    FV = PV * (1 + r)**n + PMT * ((1 + r)**n - 1) / r\n",
    "    print(\"The future value is\", FV)\n",
    "\n",
    "  elif choice == 4:\n",
    "      r = float(input(\"Enter the annual rate as a decimal: \\n\"))\n",
    "      t = math.log(2)/r\n",
    "      print(\"Your money will double in\", t, \"years\")\n",
    "\n",
    "  elif choice == 5:\n",
    "    base = float(input(\"base: \"))\n",
    "    result = float(input(\"result: \"))\n",
    "    exp = math.log(result, base)\n",
    "    print(\"exponent = \", exp)\n",
    "\n",
    "  elif choice == 6:\n",
    "    a = float(input('Enter a number to convert to scientific notation: '))\n",
    "    x = math.floor(math.log(a,10))\n",
    "    n = round(a*10**(-x), 2)\n",
    "    print(a, \" = \", n, \"* 10^\", x)\n",
    "\n",
    "\n",
    "finiance_app()\n",
    "\n",
    "# This step does not have a test"
   ]
  }
 ],
 "metadata": {
  "colab": {
   "collapsed_sections": [
    "szp5flp1fA8-",
    "KDloBuvnHQTS",
    "r1AM-AcqkbyF",
    "8wXbGsoYkm60",
    "tBxuJtHck2Oo",
    "s3z_zaNWlet8",
    "yoavB8H_ljVn",
    "MlRfYVIylkQf",
    "NGH1FcttllvS",
    "Sx0kwIdalmmY",
    "S-DVSzwDvKvE",
    "H6LTAPYplxvi",
    "iaEBltZXln-Q",
    "l5GwlqRdlpEu",
    "U_7bv7aG4UJe",
    "B7DOz9nh4XAb",
    "cqvLtj7t4VMN",
    "GsLj1NhZl1ya",
    "d7Lc9KfMYU8Y",
    "VkD30ljxlyw9",
    "bJzxcKIfz8Qt",
    "8iWUAktvPLYp",
    "rzaQj8dEOfzb",
    "UptjjiCOTSS2"
   ],
   "include_colab_link": true,
   "provenance": []
  },
  "kernelspec": {
   "display_name": "Python 3",
   "name": "python3"
  },
  "language_info": {
   "name": "python"
  },
  "widgets": {
   "application/vnd.jupyter.widget-state+json": {
    "0640423dc2cc4d3db3e6ce72a86475fd": {
     "model_module": "@jupyter-widgets/output",
     "model_module_version": "1.0.0",
     "model_name": "OutputModel",
     "state": {
      "_dom_classes": [],
      "_model_module": "@jupyter-widgets/output",
      "_model_module_version": "1.0.0",
      "_model_name": "OutputModel",
      "_view_count": null,
      "_view_module": "@jupyter-widgets/output",
      "_view_module_version": "1.0.0",
      "_view_name": "OutputView",
      "layout": "IPY_MODEL_aeed8f859e0a4db4b018a1f0ec15e2fa",
      "msg_id": "",
      "outputs": [
       {
        "data": {
         "image/png": "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\n",
         "text/plain": "<Figure size 640x480 with 1 Axes>"
        },
        "metadata": {},
        "output_type": "display_data"
       }
      ]
     }
    },
    "0ccd325d9db9466bae1bdf95307f383e": {
     "model_module": "@jupyter-widgets/controls",
     "model_module_version": "1.5.0",
     "model_name": "SliderStyleModel",
     "state": {
      "_model_module": "@jupyter-widgets/controls",
      "_model_module_version": "1.5.0",
      "_model_name": "SliderStyleModel",
      "_view_count": null,
      "_view_module": "@jupyter-widgets/base",
      "_view_module_version": "1.2.0",
      "_view_name": "StyleView",
      "description_width": "",
      "handle_color": null
     }
    },
    "1622d8b870894b608fb8a24a8e9757f9": {
     "model_module": "@jupyter-widgets/output",
     "model_module_version": "1.0.0",
     "model_name": "OutputModel",
     "state": {
      "_dom_classes": [],
      "_model_module": "@jupyter-widgets/output",
      "_model_module_version": "1.0.0",
      "_model_name": "OutputModel",
      "_view_count": null,
      "_view_module": "@jupyter-widgets/output",
      "_view_module_version": "1.0.0",
      "_view_name": "OutputView",
      "layout": "IPY_MODEL_917eaa87928848e8973cf42cf2cac791",
      "msg_id": "",
      "outputs": [
       {
        "data": {
         "image/png": "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\n",
         "text/plain": "<Figure size 640x480 with 1 Axes>"
        },
        "metadata": {},
        "output_type": "display_data"
       }
      ]
     }
    },
    "1bee7187ebfa4ed49967f7fd14537c6a": {
     "model_module": "@jupyter-widgets/base",
     "model_module_version": "1.2.0",
     "model_name": "LayoutModel",
     "state": {
      "_model_module": "@jupyter-widgets/base",
      "_model_module_version": "1.2.0",
      "_model_name": "LayoutModel",
      "_view_count": null,
      "_view_module": "@jupyter-widgets/base",
      "_view_module_version": "1.2.0",
      "_view_name": "LayoutView",
      "align_content": null,
      "align_items": null,
      "align_self": null,
      "border": null,
      "bottom": null,
      "display": null,
      "flex": null,
      "flex_flow": null,
      "grid_area": null,
      "grid_auto_columns": null,
      "grid_auto_flow": null,
      "grid_auto_rows": null,
      "grid_column": null,
      "grid_gap": null,
      "grid_row": null,
      "grid_template_areas": null,
      "grid_template_columns": null,
      "grid_template_rows": null,
      "height": null,
      "justify_content": null,
      "justify_items": null,
      "left": null,
      "margin": null,
      "max_height": null,
      "max_width": null,
      "min_height": null,
      "min_width": null,
      "object_fit": null,
      "object_position": null,
      "order": null,
      "overflow": null,
      "overflow_x": null,
      "overflow_y": null,
      "padding": null,
      "right": null,
      "top": null,
      "visibility": null,
      "width": null
     }
    },
    "2b5eb5d013d244f89f684a29e821553f": {
     "model_module": "@jupyter-widgets/controls",
     "model_module_version": "1.5.0",
     "model_name": "VBoxModel",
     "state": {
      "_dom_classes": [
       "widget-interact"
      ],
      "_model_module": "@jupyter-widgets/controls",
      "_model_module_version": "1.5.0",
      "_model_name": "VBoxModel",
      "_view_count": null,
      "_view_module": "@jupyter-widgets/controls",
      "_view_module_version": "1.5.0",
      "_view_name": "VBoxView",
      "box_style": "",
      "children": [
       "IPY_MODEL_ad1fbe1fb97b4427bc6a96a3aadb6cfa",
       "IPY_MODEL_9affe3ddb0f04d84ac8fc99441eb0720",
       "IPY_MODEL_0640423dc2cc4d3db3e6ce72a86475fd"
      ],
      "layout": "IPY_MODEL_cfb5e5e1c3a44ebc8988e5a4c9f92463"
     }
    },
    "2e49187496ab4fc896c3a3ba5f6695c1": {
     "model_module": "@jupyter-widgets/base",
     "model_module_version": "1.2.0",
     "model_name": "LayoutModel",
     "state": {
      "_model_module": "@jupyter-widgets/base",
      "_model_module_version": "1.2.0",
      "_model_name": "LayoutModel",
      "_view_count": null,
      "_view_module": "@jupyter-widgets/base",
      "_view_module_version": "1.2.0",
      "_view_name": "LayoutView",
      "align_content": null,
      "align_items": null,
      "align_self": null,
      "border": null,
      "bottom": null,
      "display": null,
      "flex": null,
      "flex_flow": null,
      "grid_area": null,
      "grid_auto_columns": null,
      "grid_auto_flow": null,
      "grid_auto_rows": null,
      "grid_column": null,
      "grid_gap": null,
      "grid_row": null,
      "grid_template_areas": null,
      "grid_template_columns": null,
      "grid_template_rows": null,
      "height": null,
      "justify_content": null,
      "justify_items": null,
      "left": null,
      "margin": null,
      "max_height": null,
      "max_width": null,
      "min_height": null,
      "min_width": null,
      "object_fit": null,
      "object_position": null,
      "order": null,
      "overflow": null,
      "overflow_x": null,
      "overflow_y": null,
      "padding": null,
      "right": null,
      "top": null,
      "visibility": null,
      "width": null
     }
    },
    "5126c90a3a4a423093fc8e765b110026": {
     "model_module": "@jupyter-widgets/controls",
     "model_module_version": "1.5.0",
     "model_name": "SliderStyleModel",
     "state": {
      "_model_module": "@jupyter-widgets/controls",
      "_model_module_version": "1.5.0",
      "_model_name": "SliderStyleModel",
      "_view_count": null,
      "_view_module": "@jupyter-widgets/base",
      "_view_module_version": "1.2.0",
      "_view_name": "StyleView",
      "description_width": "",
      "handle_color": null
     }
    },
    "5550c96207774e598db706f95cc6b30a": {
     "model_module": "@jupyter-widgets/controls",
     "model_module_version": "1.5.0",
     "model_name": "IntSliderModel",
     "state": {
      "_dom_classes": [],
      "_model_module": "@jupyter-widgets/controls",
      "_model_module_version": "1.5.0",
      "_model_name": "IntSliderModel",
      "_view_count": null,
      "_view_module": "@jupyter-widgets/controls",
      "_view_module_version": "1.5.0",
      "_view_name": "IntSliderView",
      "continuous_update": true,
      "description": "b",
      "description_tooltip": null,
      "disabled": false,
      "layout": "IPY_MODEL_87189fe1152e4461b876986cc2b15627",
      "max": 9,
      "min": -2,
      "orientation": "horizontal",
      "readout": true,
      "readout_format": "d",
      "step": 1,
      "style": "IPY_MODEL_f8e919cc9ed34da29c186a88e947ae03",
      "value": 3
     }
    },
    "6c2d93b0219340619ba9586c311fbba6": {
     "model_module": "@jupyter-widgets/controls",
     "model_module_version": "1.5.0",
     "model_name": "SliderStyleModel",
     "state": {
      "_model_module": "@jupyter-widgets/controls",
      "_model_module_version": "1.5.0",
      "_model_name": "SliderStyleModel",
      "_view_count": null,
      "_view_module": "@jupyter-widgets/base",
      "_view_module_version": "1.2.0",
      "_view_name": "StyleView",
      "description_width": "",
      "handle_color": null
     }
    },
    "6db2190ccbf5429680cb9d8621266bbf": {
     "model_module": "@jupyter-widgets/controls",
     "model_module_version": "1.5.0",
     "model_name": "IntSliderModel",
     "state": {
      "_dom_classes": [],
      "_model_module": "@jupyter-widgets/controls",
      "_model_module_version": "1.5.0",
      "_model_name": "IntSliderModel",
      "_view_count": null,
      "_view_module": "@jupyter-widgets/controls",
      "_view_module_version": "1.5.0",
      "_view_name": "IntSliderView",
      "continuous_update": true,
      "description": "a",
      "description_tooltip": null,
      "disabled": false,
      "layout": "IPY_MODEL_7194597b28ff4a20a545d30fcc719319",
      "max": 9,
      "min": -19,
      "orientation": "horizontal",
      "readout": true,
      "readout_format": "d",
      "step": 1,
      "style": "IPY_MODEL_d9170576e49a4d7cb589eb430b5cce7f",
      "value": -5
     }
    },
    "6f0c18727bb14c159cbe8ca47359b594": {
     "model_module": "@jupyter-widgets/controls",
     "model_module_version": "1.5.0",
     "model_name": "IntSliderModel",
     "state": {
      "_dom_classes": [],
      "_model_module": "@jupyter-widgets/controls",
      "_model_module_version": "1.5.0",
      "_model_name": "IntSliderModel",
      "_view_count": null,
      "_view_module": "@jupyter-widgets/controls",
      "_view_module_version": "1.5.0",
      "_view_name": "IntSliderView",
      "continuous_update": true,
      "description": "c",
      "description_tooltip": null,
      "disabled": false,
      "layout": "IPY_MODEL_1bee7187ebfa4ed49967f7fd14537c6a",
      "max": 1,
      "min": -9,
      "orientation": "horizontal",
      "readout": true,
      "readout_format": "d",
      "step": 1,
      "style": "IPY_MODEL_7c22c93d95a940a5b3777cb9368d8225",
      "value": -4
     }
    },
    "7194597b28ff4a20a545d30fcc719319": {
     "model_module": "@jupyter-widgets/base",
     "model_module_version": "1.2.0",
     "model_name": "LayoutModel",
     "state": {
      "_model_module": "@jupyter-widgets/base",
      "_model_module_version": "1.2.0",
      "_model_name": "LayoutModel",
      "_view_count": null,
      "_view_module": "@jupyter-widgets/base",
      "_view_module_version": "1.2.0",
      "_view_name": "LayoutView",
      "align_content": null,
      "align_items": null,
      "align_self": null,
      "border": null,
      "bottom": null,
      "display": null,
      "flex": null,
      "flex_flow": null,
      "grid_area": null,
      "grid_auto_columns": null,
      "grid_auto_flow": null,
      "grid_auto_rows": null,
      "grid_column": null,
      "grid_gap": null,
      "grid_row": null,
      "grid_template_areas": null,
      "grid_template_columns": null,
      "grid_template_rows": null,
      "height": null,
      "justify_content": null,
      "justify_items": null,
      "left": null,
      "margin": null,
      "max_height": null,
      "max_width": null,
      "min_height": null,
      "min_width": null,
      "object_fit": null,
      "object_position": null,
      "order": null,
      "overflow": null,
      "overflow_x": null,
      "overflow_y": null,
      "padding": null,
      "right": null,
      "top": null,
      "visibility": null,
      "width": null
     }
    },
    "75b7e712823f458e9d16d469ff7b6a36": {
     "model_module": "@jupyter-widgets/controls",
     "model_module_version": "1.5.0",
     "model_name": "VBoxModel",
     "state": {
      "_dom_classes": [
       "widget-interact"
      ],
      "_model_module": "@jupyter-widgets/controls",
      "_model_module_version": "1.5.0",
      "_model_name": "VBoxModel",
      "_view_count": null,
      "_view_module": "@jupyter-widgets/controls",
      "_view_module_version": "1.5.0",
      "_view_name": "VBoxView",
      "box_style": "",
      "children": [
       "IPY_MODEL_6db2190ccbf5429680cb9d8621266bbf",
       "IPY_MODEL_5550c96207774e598db706f95cc6b30a",
       "IPY_MODEL_6f0c18727bb14c159cbe8ca47359b594",
       "IPY_MODEL_1622d8b870894b608fb8a24a8e9757f9"
      ],
      "layout": "IPY_MODEL_80503f7176f04db59a36cca902af63bd"
     }
    },
    "7c22c93d95a940a5b3777cb9368d8225": {
     "model_module": "@jupyter-widgets/controls",
     "model_module_version": "1.5.0",
     "model_name": "SliderStyleModel",
     "state": {
      "_model_module": "@jupyter-widgets/controls",
      "_model_module_version": "1.5.0",
      "_model_name": "SliderStyleModel",
      "_view_count": null,
      "_view_module": "@jupyter-widgets/base",
      "_view_module_version": "1.2.0",
      "_view_name": "StyleView",
      "description_width": "",
      "handle_color": null
     }
    },
    "80503f7176f04db59a36cca902af63bd": {
     "model_module": "@jupyter-widgets/base",
     "model_module_version": "1.2.0",
     "model_name": "LayoutModel",
     "state": {
      "_model_module": "@jupyter-widgets/base",
      "_model_module_version": "1.2.0",
      "_model_name": "LayoutModel",
      "_view_count": null,
      "_view_module": "@jupyter-widgets/base",
      "_view_module_version": "1.2.0",
      "_view_name": "LayoutView",
      "align_content": null,
      "align_items": null,
      "align_self": null,
      "border": null,
      "bottom": null,
      "display": null,
      "flex": null,
      "flex_flow": null,
      "grid_area": null,
      "grid_auto_columns": null,
      "grid_auto_flow": null,
      "grid_auto_rows": null,
      "grid_column": null,
      "grid_gap": null,
      "grid_row": null,
      "grid_template_areas": null,
      "grid_template_columns": null,
      "grid_template_rows": null,
      "height": null,
      "justify_content": null,
      "justify_items": null,
      "left": null,
      "margin": null,
      "max_height": null,
      "max_width": null,
      "min_height": null,
      "min_width": null,
      "object_fit": null,
      "object_position": null,
      "order": null,
      "overflow": null,
      "overflow_x": null,
      "overflow_y": null,
      "padding": null,
      "right": null,
      "top": null,
      "visibility": null,
      "width": null
     }
    },
    "83227c64b9dd4ee79a32ffa56c421e78": {
     "model_module": "@jupyter-widgets/base",
     "model_module_version": "1.2.0",
     "model_name": "LayoutModel",
     "state": {
      "_model_module": "@jupyter-widgets/base",
      "_model_module_version": "1.2.0",
      "_model_name": "LayoutModel",
      "_view_count": null,
      "_view_module": "@jupyter-widgets/base",
      "_view_module_version": "1.2.0",
      "_view_name": "LayoutView",
      "align_content": null,
      "align_items": null,
      "align_self": null,
      "border": null,
      "bottom": null,
      "display": null,
      "flex": null,
      "flex_flow": null,
      "grid_area": null,
      "grid_auto_columns": null,
      "grid_auto_flow": null,
      "grid_auto_rows": null,
      "grid_column": null,
      "grid_gap": null,
      "grid_row": null,
      "grid_template_areas": null,
      "grid_template_columns": null,
      "grid_template_rows": null,
      "height": null,
      "justify_content": null,
      "justify_items": null,
      "left": null,
      "margin": null,
      "max_height": null,
      "max_width": null,
      "min_height": null,
      "min_width": null,
      "object_fit": null,
      "object_position": null,
      "order": null,
      "overflow": null,
      "overflow_x": null,
      "overflow_y": null,
      "padding": null,
      "right": null,
      "top": null,
      "visibility": null,
      "width": null
     }
    },
    "8614ebbf54a844048724e8557650fb46": {
     "model_module": "@jupyter-widgets/controls",
     "model_module_version": "1.5.0",
     "model_name": "SliderStyleModel",
     "state": {
      "_model_module": "@jupyter-widgets/controls",
      "_model_module_version": "1.5.0",
      "_model_name": "SliderStyleModel",
      "_view_count": null,
      "_view_module": "@jupyter-widgets/base",
      "_view_module_version": "1.2.0",
      "_view_name": "StyleView",
      "description_width": "",
      "handle_color": null
     }
    },
    "87189fe1152e4461b876986cc2b15627": {
     "model_module": "@jupyter-widgets/base",
     "model_module_version": "1.2.0",
     "model_name": "LayoutModel",
     "state": {
      "_model_module": "@jupyter-widgets/base",
      "_model_module_version": "1.2.0",
      "_model_name": "LayoutModel",
      "_view_count": null,
      "_view_module": "@jupyter-widgets/base",
      "_view_module_version": "1.2.0",
      "_view_name": "LayoutView",
      "align_content": null,
      "align_items": null,
      "align_self": null,
      "border": null,
      "bottom": null,
      "display": null,
      "flex": null,
      "flex_flow": null,
      "grid_area": null,
      "grid_auto_columns": null,
      "grid_auto_flow": null,
      "grid_auto_rows": null,
      "grid_column": null,
      "grid_gap": null,
      "grid_row": null,
      "grid_template_areas": null,
      "grid_template_columns": null,
      "grid_template_rows": null,
      "height": null,
      "justify_content": null,
      "justify_items": null,
      "left": null,
      "margin": null,
      "max_height": null,
      "max_width": null,
      "min_height": null,
      "min_width": null,
      "object_fit": null,
      "object_position": null,
      "order": null,
      "overflow": null,
      "overflow_x": null,
      "overflow_y": null,
      "padding": null,
      "right": null,
      "top": null,
      "visibility": null,
      "width": null
     }
    },
    "8a0003941d7b405d8df9231a4156aeca": {
     "model_module": "@jupyter-widgets/base",
     "model_module_version": "1.2.0",
     "model_name": "LayoutModel",
     "state": {
      "_model_module": "@jupyter-widgets/base",
      "_model_module_version": "1.2.0",
      "_model_name": "LayoutModel",
      "_view_count": null,
      "_view_module": "@jupyter-widgets/base",
      "_view_module_version": "1.2.0",
      "_view_name": "LayoutView",
      "align_content": null,
      "align_items": null,
      "align_self": null,
      "border": null,
      "bottom": null,
      "display": null,
      "flex": null,
      "flex_flow": null,
      "grid_area": null,
      "grid_auto_columns": null,
      "grid_auto_flow": null,
      "grid_auto_rows": null,
      "grid_column": null,
      "grid_gap": null,
      "grid_row": null,
      "grid_template_areas": null,
      "grid_template_columns": null,
      "grid_template_rows": null,
      "height": null,
      "justify_content": null,
      "justify_items": null,
      "left": null,
      "margin": null,
      "max_height": null,
      "max_width": null,
      "min_height": null,
      "min_width": null,
      "object_fit": null,
      "object_position": null,
      "order": null,
      "overflow": null,
      "overflow_x": null,
      "overflow_y": null,
      "padding": null,
      "right": null,
      "top": null,
      "visibility": null,
      "width": null
     }
    },
    "917eaa87928848e8973cf42cf2cac791": {
     "model_module": "@jupyter-widgets/base",
     "model_module_version": "1.2.0",
     "model_name": "LayoutModel",
     "state": {
      "_model_module": "@jupyter-widgets/base",
      "_model_module_version": "1.2.0",
      "_model_name": "LayoutModel",
      "_view_count": null,
      "_view_module": "@jupyter-widgets/base",
      "_view_module_version": "1.2.0",
      "_view_name": "LayoutView",
      "align_content": null,
      "align_items": null,
      "align_self": null,
      "border": null,
      "bottom": null,
      "display": null,
      "flex": null,
      "flex_flow": null,
      "grid_area": null,
      "grid_auto_columns": null,
      "grid_auto_flow": null,
      "grid_auto_rows": null,
      "grid_column": null,
      "grid_gap": null,
      "grid_row": null,
      "grid_template_areas": null,
      "grid_template_columns": null,
      "grid_template_rows": null,
      "height": null,
      "justify_content": null,
      "justify_items": null,
      "left": null,
      "margin": null,
      "max_height": null,
      "max_width": null,
      "min_height": null,
      "min_width": null,
      "object_fit": null,
      "object_position": null,
      "order": null,
      "overflow": null,
      "overflow_x": null,
      "overflow_y": null,
      "padding": null,
      "right": null,
      "top": null,
      "visibility": null,
      "width": null
     }
    },
    "9affe3ddb0f04d84ac8fc99441eb0720": {
     "model_module": "@jupyter-widgets/controls",
     "model_module_version": "1.5.0",
     "model_name": "IntSliderModel",
     "state": {
      "_dom_classes": [],
      "_model_module": "@jupyter-widgets/controls",
      "_model_module_version": "1.5.0",
      "_model_name": "IntSliderModel",
      "_view_count": null,
      "_view_module": "@jupyter-widgets/controls",
      "_view_module_version": "1.5.0",
      "_view_name": "IntSliderView",
      "continuous_update": true,
      "description": "b",
      "description_tooltip": null,
      "disabled": false,
      "layout": "IPY_MODEL_83227c64b9dd4ee79a32ffa56c421e78",
      "max": 9,
      "min": 1,
      "orientation": "horizontal",
      "readout": true,
      "readout_format": "d",
      "step": 1,
      "style": "IPY_MODEL_8614ebbf54a844048724e8557650fb46",
      "value": 5
     }
    },
    "a26e10f920574f1d9d041c1f0f4809b0": {
     "model_module": "@jupyter-widgets/base",
     "model_module_version": "1.2.0",
     "model_name": "LayoutModel",
     "state": {
      "_model_module": "@jupyter-widgets/base",
      "_model_module_version": "1.2.0",
      "_model_name": "LayoutModel",
      "_view_count": null,
      "_view_module": "@jupyter-widgets/base",
      "_view_module_version": "1.2.0",
      "_view_name": "LayoutView",
      "align_content": null,
      "align_items": null,
      "align_self": null,
      "border": null,
      "bottom": null,
      "display": null,
      "flex": null,
      "flex_flow": null,
      "grid_area": null,
      "grid_auto_columns": null,
      "grid_auto_flow": null,
      "grid_auto_rows": null,
      "grid_column": null,
      "grid_gap": null,
      "grid_row": null,
      "grid_template_areas": null,
      "grid_template_columns": null,
      "grid_template_rows": null,
      "height": null,
      "justify_content": null,
      "justify_items": null,
      "left": null,
      "margin": null,
      "max_height": null,
      "max_width": null,
      "min_height": null,
      "min_width": null,
      "object_fit": null,
      "object_position": null,
      "order": null,
      "overflow": null,
      "overflow_x": null,
      "overflow_y": null,
      "padding": null,
      "right": null,
      "top": null,
      "visibility": null,
      "width": null
     }
    },
    "a83118def13c467283315d0f35861838": {
     "model_module": "@jupyter-widgets/base",
     "model_module_version": "1.2.0",
     "model_name": "LayoutModel",
     "state": {
      "_model_module": "@jupyter-widgets/base",
      "_model_module_version": "1.2.0",
      "_model_name": "LayoutModel",
      "_view_count": null,
      "_view_module": "@jupyter-widgets/base",
      "_view_module_version": "1.2.0",
      "_view_name": "LayoutView",
      "align_content": null,
      "align_items": null,
      "align_self": null,
      "border": null,
      "bottom": null,
      "display": null,
      "flex": null,
      "flex_flow": null,
      "grid_area": null,
      "grid_auto_columns": null,
      "grid_auto_flow": null,
      "grid_auto_rows": null,
      "grid_column": null,
      "grid_gap": null,
      "grid_row": null,
      "grid_template_areas": null,
      "grid_template_columns": null,
      "grid_template_rows": null,
      "height": null,
      "justify_content": null,
      "justify_items": null,
      "left": null,
      "margin": null,
      "max_height": null,
      "max_width": null,
      "min_height": null,
      "min_width": null,
      "object_fit": null,
      "object_position": null,
      "order": null,
      "overflow": null,
      "overflow_x": null,
      "overflow_y": null,
      "padding": null,
      "right": null,
      "top": null,
      "visibility": null,
      "width": null
     }
    },
    "ad1fbe1fb97b4427bc6a96a3aadb6cfa": {
     "model_module": "@jupyter-widgets/controls",
     "model_module_version": "1.5.0",
     "model_name": "IntSliderModel",
     "state": {
      "_dom_classes": [],
      "_model_module": "@jupyter-widgets/controls",
      "_model_module_version": "1.5.0",
      "_model_name": "IntSliderModel",
      "_view_count": null,
      "_view_module": "@jupyter-widgets/controls",
      "_view_module_version": "1.5.0",
      "_view_name": "IntSliderView",
      "continuous_update": true,
      "description": "a",
      "description_tooltip": null,
      "disabled": false,
      "layout": "IPY_MODEL_c67ad9e611714d448348b9ab313c17b4",
      "max": -1,
      "min": -9,
      "orientation": "horizontal",
      "readout": true,
      "readout_format": "d",
      "step": 1,
      "style": "IPY_MODEL_b23e6f88363d4c2ba620612c994ce5c1",
      "value": -5
     }
    },
    "adea2c2fa4454f4599122de872178758": {
     "model_module": "@jupyter-widgets/controls",
     "model_module_version": "1.5.0",
     "model_name": "VBoxModel",
     "state": {
      "_dom_classes": [
       "widget-interact"
      ],
      "_model_module": "@jupyter-widgets/controls",
      "_model_module_version": "1.5.0",
      "_model_name": "VBoxModel",
      "_view_count": null,
      "_view_module": "@jupyter-widgets/controls",
      "_view_module_version": "1.5.0",
      "_view_name": "VBoxView",
      "box_style": "",
      "children": [
       "IPY_MODEL_cb5cc2cdce1041afac7bef27cda8dc8d",
       "IPY_MODEL_ae170a283bf44283be5334528c5bc448",
       "IPY_MODEL_e41099cd5bdc408eaebd366c68f6c0ef",
       "IPY_MODEL_bd53847bb55f4b6bb1fa5da8df757bec"
      ],
      "layout": "IPY_MODEL_a83118def13c467283315d0f35861838"
     }
    },
    "ae170a283bf44283be5334528c5bc448": {
     "model_module": "@jupyter-widgets/controls",
     "model_module_version": "1.5.0",
     "model_name": "IntSliderModel",
     "state": {
      "_dom_classes": [],
      "_model_module": "@jupyter-widgets/controls",
      "_model_module_version": "1.5.0",
      "_model_name": "IntSliderModel",
      "_view_count": null,
      "_view_module": "@jupyter-widgets/controls",
      "_view_module_version": "1.5.0",
      "_view_name": "IntSliderView",
      "continuous_update": true,
      "description": "b",
      "description_tooltip": null,
      "disabled": false,
      "layout": "IPY_MODEL_8a0003941d7b405d8df9231a4156aeca",
      "max": 9,
      "min": -9,
      "orientation": "horizontal",
      "readout": true,
      "readout_format": "d",
      "step": 1,
      "style": "IPY_MODEL_5126c90a3a4a423093fc8e765b110026",
      "value": -3
     }
    },
    "aeed8f859e0a4db4b018a1f0ec15e2fa": {
     "model_module": "@jupyter-widgets/base",
     "model_module_version": "1.2.0",
     "model_name": "LayoutModel",
     "state": {
      "_model_module": "@jupyter-widgets/base",
      "_model_module_version": "1.2.0",
      "_model_name": "LayoutModel",
      "_view_count": null,
      "_view_module": "@jupyter-widgets/base",
      "_view_module_version": "1.2.0",
      "_view_name": "LayoutView",
      "align_content": null,
      "align_items": null,
      "align_self": null,
      "border": null,
      "bottom": null,
      "display": null,
      "flex": null,
      "flex_flow": null,
      "grid_area": null,
      "grid_auto_columns": null,
      "grid_auto_flow": null,
      "grid_auto_rows": null,
      "grid_column": null,
      "grid_gap": null,
      "grid_row": null,
      "grid_template_areas": null,
      "grid_template_columns": null,
      "grid_template_rows": null,
      "height": null,
      "justify_content": null,
      "justify_items": null,
      "left": null,
      "margin": null,
      "max_height": null,
      "max_width": null,
      "min_height": null,
      "min_width": null,
      "object_fit": null,
      "object_position": null,
      "order": null,
      "overflow": null,
      "overflow_x": null,
      "overflow_y": null,
      "padding": null,
      "right": null,
      "top": null,
      "visibility": null,
      "width": null
     }
    },
    "b23e6f88363d4c2ba620612c994ce5c1": {
     "model_module": "@jupyter-widgets/controls",
     "model_module_version": "1.5.0",
     "model_name": "SliderStyleModel",
     "state": {
      "_model_module": "@jupyter-widgets/controls",
      "_model_module_version": "1.5.0",
      "_model_name": "SliderStyleModel",
      "_view_count": null,
      "_view_module": "@jupyter-widgets/base",
      "_view_module_version": "1.2.0",
      "_view_name": "StyleView",
      "description_width": "",
      "handle_color": null
     }
    },
    "bd53847bb55f4b6bb1fa5da8df757bec": {
     "model_module": "@jupyter-widgets/output",
     "model_module_version": "1.0.0",
     "model_name": "OutputModel",
     "state": {
      "_dom_classes": [],
      "_model_module": "@jupyter-widgets/output",
      "_model_module_version": "1.0.0",
      "_model_name": "OutputModel",
      "_view_count": null,
      "_view_module": "@jupyter-widgets/output",
      "_view_module_version": "1.0.0",
      "_view_name": "OutputView",
      "layout": "IPY_MODEL_2e49187496ab4fc896c3a3ba5f6695c1",
      "msg_id": "",
      "outputs": [
       {
        "data": {
         "image/png": "iVBORw0KGgoAAAANSUhEUgAAAkcAAAGiCAYAAADtImJbAAAAOnRFWHRTb2Z0d2FyZQBNYXRwbG90bGliIHZlcnNpb24zLjEwLjAsIGh0dHBzOi8vbWF0cGxvdGxpYi5vcmcvlHJYcgAAAAlwSFlzAAAPYQAAD2EBqD+naQAAQQlJREFUeJzt3Xt8VPWd//H35Da5J4TcIYEEEFAuImpM2iJW1mBtK5Yfq5QWUcTqglWhrqQ/FcXtxlvFal21uxTsWtfL/hSttbiIgqtEUC5VECLBkJCQhGsSMiHXOb8/khkmkoRcZubMJK/n4zGPh3PmnJnPyTGZN9/bsRiGYQgAAACSpACzCwAAAPAlhCMAAAAXhCMAAAAXhCMAAAAXhCMAAAAXhCMAAAAXhCMAAAAXhCMAAAAXhCMAAAAXhCMAAAAXHg1HH330kX70ox8pNTVVFotF69at6/C6YRh64IEHlJKSorCwMM2YMUP79+8/5/s+++yzGjlypEJDQ5WVlaVt27Z56AwAAMBg49FwZLPZNHnyZD377LOdvv7YY4/p6aef1vPPP6+tW7cqIiJCubm5amho6PI9X331VS1dulQrVqzQjh07NHnyZOXm5urIkSOeOg0AADCIWLx141mLxaI333xTs2bNktTWapSamqply5bpV7/6lSSppqZGSUlJWrt2rW644YZO3ycrK0uXXHKJfv/730uS7Ha70tLSdMcdd2j58uXeOBUAADCABZn1wcXFxaqsrNSMGTOc22JiYpSVlaWCgoJOw1FTU5O2b9+uvLw857aAgADNmDFDBQUFXX5WY2OjGhsbnc/tdrtOnDihoUOHymKxuOmMAACAJxmGoVOnTik1NVUBAZ7r/DItHFVWVkqSkpKSOmxPSkpyvvZtx44dU2tra6fH7Nu3r8vPys/P10MPPdTPigEAgC84dOiQhg8f7rH3Ny0ceVNeXp6WLl3qfF5TU6P09HQdOnRI0dHRJlYG+If1uyv0q9e/0NT0IXpx4aVml9Mlm82m1NRUSdLhw4cVERFhckXm+vl/bNXOQ9V68h8n66oLks0uB+i32tpapaWlKSoqyqOfY1o4Sk5u+0WtqqpSSkqKc3tVVZUuvPDCTo+Jj49XYGCgqqqqOmyvqqpyvl9nrFarrFbrWdujo6MJR0APZKS2KMAarhMtgT79OxMYGOj87+jo6EEfjk60BCrAGq6M1Hifvm5Ab3l6SIxp6xxlZGQoOTlZGzdudG6rra3V1q1blZ2d3ekxISEhmjp1aodj7Ha7Nm7c2OUxAPovMartHxdVtQ3y0hwO9JNhGKqqbRtrmRgVanI1gH/xaMtRXV2dioqKnM+Li4u1a9cuxcXFKT09XXfddZf+5V/+RWPGjFFGRobuv/9+paamOme0SdKVV16p6667TkuWLJEkLV26VDfeeKMuvvhiXXrppXrqqadks9l00003efJUgEHN8eXa0GxXbUOLYsKCTa4I51JzullNLXZJUkLU2S3nALrm0XD0+eef64orrnA+d4z7ufHGG7V27Vr98z//s2w2m2699VZVV1fru9/9rtavX6/Q0DP/yjlw4ICOHTvmfH799dfr6NGjeuCBB1RZWakLL7xQ69evP2uQNgD3CQsJVHRokGobWnT0VAPhyA8cOdXWahQbHqzQ4MBz7A3AldfWOfIltbW1iomJUU1NDf3wQA/9w5Obtf9Inf58S5a+Mzre7HI6ZbPZFBkZKamt5Xowjzn63/1H9fPV2zQ2KUrv3T3N7HIAt/DW9zf3VgPQI4nRZ8Ydwfc5xxtF06UG9BbhCECPJLWPO3J86cK3OUIsg7GB3iMcAeiRxOi2L9kjp2g58gdH28ccJdFyBPQa4QhAjzim8x+h5cgvnGk5IhwBvUU4AtAjSdGObjVajvyB4zo5rhuAniMcAegRR/dMFd1qfoEB2UDfEY4A9IijBeJIbSOrZPs4u91wjg2j5QjoPcIRgB5xrLLc2GJXzelmk6tBd07UN6m5tS3AMlsN6D3CEYAeCQ0O1JDwtpWxKxl35NMqa9quT3xkiEKC+DMP9Ba/NQB6zNFFU1FDOPJlDMYG+odwBKDHkmPaZ6wRjnyao2UvmXAE9AnhCECPOb5s6VbzbY7wmhRDOAL6gnAEoMecLUeEI5/mCK8ptBwBfUI4AtBjzpYjutV8WmX7Gke0HAF9QzgC0GOOL9tKbiHi0xzdaow5AvqGcASgx860HJ02uRJ0xzkgm5YjoE8IRwB6zBGOTtY3q6G51eRq0JmG5lbnIp1M5Qf6hnAEoMdiw4NlbV9U8Ahdaz7JMR4sLDhQ0aFBJlcD+CfCEYAes1gszq4apvP7JtcuNYvFYnI1gH8iHAHolSTWOvJpZ1bHtppcCeC/CEcAesUx7ohVsn1TBTPVgH4jHAHoFUe3GvdX802VrI4N9BvhCECvOFuO6FbzSVXcVw3oN8IRgF5hQLZvc946hJYjoM8IRwB6JYlbiPg0501naTkC+oxwBKBXHC1HR041yG43TK4Grux2Q0dOta0/xerYQN8RjgD0SmKUVRaL1Nxq6ER9k9nlwMUxW6Na7IYCLFJCJFP5gb4iHAHoleDAAMW3f/HSteZbqmraWo3iI60KCuTPO9BX/PYA6LVkxh35JG44C7gH4QhAr7FKtm+qrGUwNuAOhCMAvZYcQ7eaL6qoPi1JSqXlCOgXwhGAXkuJCZPEKtm+xhFWk9uvD4C+IRwB6LUU50KQp02uBK4O17S3HMXScgT0B+EIQK85W46qaTnyJZXcdBZwC8IRgF5Lcbn5rGGwEKQvMAzD2c2ZGku3GtAfpoejkSNHymKxnPVYvHhxp/uvXbv2rH1DQ/lXEuBNjqnip5tbVXO62eRqIEkn65vV2GKXJCVGswAk0B9BZhfw2WefqbW11fl89+7d+od/+AfNmTOny2Oio6NVWFjofG6xWDxaI4COQoMDFRcRohO2JlXUNCg2PMTskga9ivbxRvGRIbIGBZpcDeDfTA9HCQkJHZ4/8sgjGjVqlC6//PIuj7FYLEpOTvZ0aQC6kRIT2h6OTmt8SrTZ5Qx6jvFfKcxUA/rN9G41V01NTXrppZd08803d9saVFdXpxEjRigtLU3XXnut9uzZ0+37NjY2qra2tsMDQP+4jjuC+SpYHRtwG58KR+vWrVN1dbUWLFjQ5T5jx47VH//4R7311lt66aWXZLfblZOTo7Kysi6Pyc/PV0xMjPORlpbmgeqBwYUZa76FBSAB9/GpcLR69WpdffXVSk1N7XKf7OxszZ8/XxdeeKEuv/xyvfHGG0pISNALL7zQ5TF5eXmqqalxPg4dOuSJ8oFBJZmWI5/CApCA+5g+5sihpKRE77//vt54441eHRccHKwpU6aoqKioy32sVqusVmZvAO7kWGjQMRAY5mIBSMB9fKblaM2aNUpMTNQ111zTq+NaW1v15ZdfKiUlxUOVAehMcnRbCwX3V/MNLAAJuI9PhCO73a41a9boxhtvVFBQx8as+fPnKy8vz/l85cqV+p//+R9988032rFjh372s5+ppKREt9xyi7fLBgY1RwvF4ZrTLARpMhaABNzLJ7rV3n//fZWWlurmm28+67XS0lIFBJzJcCdPntSiRYtUWVmpIUOGaOrUqdqyZYvOP/98b5YMDHpJ7S0UDc121ZxuZq0jE7EAJOBePhGOrrrqqi7/5blp06YOz1etWqVVq1Z5oSoA3QkNDtTQiBAdtzXpcDULQZqJBSAB9/KJbjUA/skxY62ylkHZZmIBSMC9CEcA+szxZXyYtY5MxQKQgHsRjgD02ZlVsmk5MhMLQALuRTgC0GcpsSwE6QtYABJwL8IRgD5zthzRrWYqFoAE3ItwBKDPHGOOKmsJR2ZiAUjAvQhHAPrM0XJ0uJqFIM1itxs6zAKQgFsRjgD0mWN2VGOLXSfrm02uZnA6bmtSU4tdFguz1QB3IRwB6DNrUKASotpWZD5czYw1Mzh+7klRoQoO5E864A78JgHoF0dXTjnhyBSOcMRgbMB9CEcA+mVY7JlxR/A+xhsB7kc4AtAvqc5VsglHZnD83IcRjgC3IRwB6BdHiwW3EDHHmW41whHgLoQjAP3CmCNzEY4A9yMcAeiXYbF0q5mpvNox5ogB2YC7EI4A9IvjS/nIqUY1trSaXM3g0tDcqmN1jZLOjP0C0H+EIwD9EhcRImtQ25+SqppGk6sZXBy3DQkLDlRseLDJ1QADB+EIQL9YLBZn1xrjjrzLdY0ji8VicjXAwEE4AtBvqYw7MkU5g7EBjyAcAei3VBaCNIVj+QTWOALci3AEoN+cLUc1hCNvYho/4BmEIwD9dmatIxaC9CZHGCUcAe5FOALQb6x1ZI5ybjoLeAThCEC/OVuOTp6WYRgmVzM4GIbBfdUADyEcAei3lJi2lovTza2qrm82uZrB4WR9sxqa7ZKk5BhajgB3IhwB6LfQ4EDFR4ZIYq0jb3G0GiVEWWUNCjS5GmBgIRwBcAvWOvIu1jgCPIdwBMAtHPf2ouXIO8pPOsYb0aUGuBvhCIBb0HLkXY4QOnxIuMmVAAMP4QiAWwwfQsuRN5WdrJd05ucOwH0IRwDcwvElXXaScOQNZSeZxg94CuEIgFsMIxx5Fd1qgOcQjgC4heNL+oStSfVNLSZXM7DVNbY415MaRrca4HaEIwBuERMWrKjQIElnZlLBMxw/39jwYEVag0yuBhh4CEcA3MYx/oWuNc9iMDbgWaaHowcffFAWi6XDY9y4cd0e8/rrr2vcuHEKDQ3VxIkT9e6773qpWgDdcXStOb684RkMxgY8y/RwJEkXXHCBKioqnI+PP/64y323bNmiuXPnauHChdq5c6dmzZqlWbNmaffu3V6sGEBnnDPWmM7vUQzGBjzLJ8JRUFCQkpOTnY/4+Pgu9/3d736nmTNn6p577tH48eP18MMP66KLLtLvf/97L1YMoDNM5/cOR8scLUeAZ/hEONq/f79SU1OVmZmpefPmqbS0tMt9CwoKNGPGjA7bcnNzVVBQ0OUxjY2Nqq2t7fAA4H6EI+9w/HwZcwR4hunhKCsrS2vXrtX69ev13HPPqbi4WN/73vd06tSpTvevrKxUUlJSh21JSUmqrKzs8jPy8/MVExPjfKSlpbn1HAC0cXTzMFvNs8pP0q0GeJLp4ejqq6/WnDlzNGnSJOXm5urdd99VdXW1XnvtNbd9Rl5enmpqapyPQ4cOue29AZzhaMk4VteohuZWk6sZmOqbWnTc1iSJNY4AT/G5BTJiY2N13nnnqaioqNPXk5OTVVVV1WFbVVWVkpOTu3xPq9Uqq9Xq1joBnC0mLFgRIYGyNbWq7ORpjU6MNLukAcdxY9+o0CDFhAWbXA0wMJnecvRtdXV1OnDggFJSUjp9PTs7Wxs3buywbcOGDcrOzvZGeQC6YbFYznStMWPNIw4xjR/wONPD0a9+9Stt3rxZBw8e1JYtW3TdddcpMDBQc+fOlSTNnz9feXl5zv3vvPNOrV+/Xr/97W+1b98+Pfjgg/r888+1ZMkSs04BgIszg7JZ68gTyhhvBHic6d1qZWVlmjt3ro4fP66EhAR997vf1aeffqqEhARJUmlpqQICzmS4nJwcvfzyy7rvvvv061//WmPGjNG6des0YcIEs04BgAtuQOtZ5cxUAzzO9HD0yiuvdPv6pk2bzto2Z84czZkzx0MVAegPpvN7FrcOATzP9G41AAPLmen8dKt5wpnVsQlHgKcQjgC4FTef9axDJxwDshlzBHgK4QiAWzlaNI6cYq0jdzvd1KpjdY2SpPQ4whHgKYQjAG4VFxGiiJBASbQeuduh9q7KqNAgxYSzxhHgKYQjAG5lsViU1t6qcYhxR2516ETbz5NWI8CzCEcA3M4Zjk4QjtyptP3nmcYaR4BHEY4AuJ2jZaP0OOHInRyDsdOHEo4ATyIcAXC7tPZB2XSrudeZliOm8QOeRDgC4HaOlo3SEwzIdifHApBpjDkCPIpwBMDtHGNiyk7UyzAMk6sZGAzDONNyRDgCPIpwBMDtHKtkn2psUXV9s8nVDAwnbE2qb2qVxXJmoU0AnkE4AuB2YSGBSoyySmLckbs4Wo2SokIVGhxocjXAwEY4AuARjq6fUqbzu8Wh9gU10+JoNQI8jXAEwCPSnWsdMSjbHQ4x3gjwGsIRAI9wTDen5cg9DrEAJOA1hCMAHuFo4ShjzJFbOMZucesQwPMIRwA8Ip0xR27FNH7AewhHADzC8SVefvK0Wu2sddQfLa12Ha5ukETLEeANhCMAHpEUHaqQwAC12A1V1DAouz8qahrUajcUEhTgXCIBgOcQjgB4RGCARcMc91hjxlq/OAZjDx8SpoAAi8nVAAMf4QiAx6Q5p/Mz7qg/SpipBngV4QiAx6S3L1hYcsJmciX+reR4WzgaOZRwBHgD4QiAx4yIi5B05ssdfVNyvC1cpg+NMLkSYHAgHAHwmBFDmc7vDrQcAd5FOALgMSPj21o6io/ZZBhM5+8LwzCcLUcjCEeAVxCOAHiMY02eUw0tqq5vNrka/3Tc1iRbU6ssFmk4A7IBryAcAfCY0OBAJUeHSjoz4wq942g1So0JU2hwoMnVAIMD4QiARzm6ghxf8ugdx3gjVsYGvIdwBMCjHOHo4DFajvrioGMwdjzhCPAWwhEAjxrRPv2ctY76ptQxjT+OafyAtxCOAHjUyKGsddQfB5nGD3gd4QiARzHmqH/OTOOn5QjwFsIRAI9Kbw9Hx+qaVNfYYnI1/qXmdLNOti+BkE7LEeA1hCMAHhUdGqy4iBBJtB71Vml7l1p8pFWR1iCTqwEGD8IRAI8707XGuKPecAxiZ2VswLsIRwA8zjEo+yAtR73iCJOEI8C7TA9H+fn5uuSSSxQVFaXExETNmjVLhYWF3R6zdu1aWSyWDo/Q0FAvVQygtxwLGJbSctQrzsHYTOMHvMr0cLR582YtXrxYn376qTZs2KDm5mZdddVVstm6/xdmdHS0KioqnI+SkhIvVQygtxwLGNJy1DssAAmYw/QRfuvXr+/wfO3atUpMTNT27ds1bdq0Lo+zWCxKTk7u0Wc0NjaqsbHR+by2trZvxQLokxGsddQnJc4FIAlHgDeZ3nL0bTU1NZKkuLi4bverq6vTiBEjlJaWpmuvvVZ79uzpct/8/HzFxMQ4H2lpaW6tGUD3HGOOKmoadLqp1eRq/IOtsUVVtW3/qMuMjzS5GmBw8alwZLfbddddd+k73/mOJkyY0OV+Y8eO1R//+Ee99dZbeumll2S325WTk6OysrJO98/Ly1NNTY3zcejQIU+dAoBODAkPVkxYsCRuI9JTxcfafk5DI0IUEx5scjXA4GJ6t5qrxYsXa/fu3fr444+73S87O1vZ2dnO5zk5ORo/frxeeOEFPfzww2ftb7VaZbVa3V4vgJ6xWCzKiI/QrkPVKj5q07jkaLNL8nmOcJQRz2BswNt8puVoyZIleuedd/Thhx9q+PDhvTo2ODhYU6ZMUVFRkYeqA9Bfme1f8t8co+WoJwhHgHlMD0eGYWjJkiV688039cEHHygjI6PX79Ha2qovv/xSKSkpHqgQgDs4vuS/OUo46glHOBpJOAK8zvRutcWLF+vll1/WW2+9paioKFVWVkqSYmJiFBYWJkmaP3++hg0bpvz8fEnSypUrddlll2n06NGqrq7W448/rpKSEt1yyy2mnQeA7mUktH3JFx+rM7kS/+AIR5mEI8DrTA9Hzz33nCRp+vTpHbavWbNGCxYskCSVlpYqIOBMI9fJkye1aNEiVVZWasiQIZo6daq2bNmi888/31tlA+glR8tRMd1q52QYhr452hYiHaESgPeYHo4MwzjnPps2berwfNWqVVq1apWHKgLgCY5wdLK+WSdtTRrSfjNanO1kfbNqG1oknVkGAYD3mD7mCMDgEB4SpJSYttv8FLNSdrccXY/DYsMUGhxocjXA4EM4AuA1zq41BmV3yzFonZlqgDkIRwC8hnFHPcM0fsBchCMAXkM46hnCEWAuwhEAr8lMYCHIniAcAeYiHAHwmoz2G6gePGaT3X7umaqDkd1u6OBxwhFgJsIRAK8ZPiRMQQEWnW5uVdWpBrPL8UmVtQ1qaLYrKMCi4UPCzC4HGJQIRwC8JjgwQOlx4ZKYsdYVR5da+tBwBQXyJxowA795ALzK0VV0gHFHnTrQvjI2tw0BzEM4AuBVjkHZB45wj7XOFLX/XEYlRppcCTB4EY4AeNXo9i99RwsJOnL8XEYnEI4AsxCOAHjVqPYvfVqOOkfLEWA+whEAr3K0HB2uaZCtscXkanzLqYZmVdU2SjrzcwLgfYQjAF4VGx6i+MgQSXStfduB9hl8iVFWRYcGm1wNMHgRjgB4nbNrjXDUgbNLjfFGgKkIRwC8zjGepohxRx04B2PTpQaYinAEwOscM7EIRx05fh6EI8BchCMAXjealqNOHaBbDfAJhCMAXucIRyXH69Xcaje5Gt/Q1GJXyYl6SbQcAWYjHAHwupSYUIWHBKrFbqjkeL3Z5fiEkuM2tdoNRVqDlBRtNbscYFAjHAHwOovF4uw6omutzZmZahGyWCwmVwMMboQjAKbgNiIdOX4OrIwNmI9wBMAUznBEy5EkZqoBvoRwBMAUoxIiJElFtBxJOvNzYKYaYD7CEQBTuE7nt9sNk6sxl91uOFuOzkuKMrkaAIQjAKYYMTRCIYEBqm9qVXn1abPLMdWhk/VqaLbLGhSg9Lhws8sBBj3CEQBTBAcGKLO9a+3rqlMmV2Ouwsq28x+dGKnAAGaqAWYjHAEwjaML6euqwT3uyBEOx9KlBvgEwhEA04xNdoSjQd5y1B4OxxCOAJ9AOAJgGkfLkaNbabDa72g5SmamGuALCEcATOPoRio6WqeWQXqPteZWu3MBSGaqAb6BcATANMOHhCksOLDDTVcHm4PHbGpuNRQREqhhsWFmlwNAhCMAJgoIsOi8pLaupK8Hadfa1y7jjbinGuAbCEcATOUcdzRIB2UXMlMN8DmEIwCmGuwz1hwtZmOSGIwN+AqfCEfPPvusRo4cqdDQUGVlZWnbtm3d7v/6669r3LhxCg0N1cSJE/Xuu+96qVIA7jbYZ6x9fcQxU42WI8BXBJldwKuvvqqlS5fq+eefV1ZWlp566inl5uaqsLBQiYmJZ+2/ZcsWzZ07V/n5+frhD3+ol19+WbNmzdKOHTs0YcKEXn22zWZTYGCgu04FQB+kRbf9Dh48ZtOJmlpZg/r+O2mz2Tr9b1/V2NKqg8fa6kyLCvSLmgEzeet3xGIYhql3fMzKytIll1yi3//+95Iku92utLQ03XHHHVq+fPlZ+19//fWy2Wx65513nNsuu+wyXXjhhXr++ec7/YzGxkY1NjY6n9fW1iotLc3NZwKgr4b/8r8UGBalw3+8Q81Hi80ux2uCEzOUetMzaj1dq7Knf2p2OYDfqKmpUXR0tMfe39RutaamJm3fvl0zZsxwbgsICNCMGTNUUFDQ6TEFBQUd9pek3NzcLveXpPz8fMXExDgfBCPAtzQfK5EkhSSMMLkS7wpJGClJaj5Wam4hADowtVvt2LFjam1tVVJSUoftSUlJ2rdvX6fHVFZWdrp/ZWVll5+Tl5enpUuXOp87Wo4OHz7s0eQJoGdWvvu1Xt1+WP/8r7/Tshmj+vw+NpvN+fehqqpKERER7irRIx7fUKS1n5bp5p/k6v/+YYnZ5QA+r7a2VqmpqR7/HNPHHHmD1WqV1Wo9a3tERITP//EEBoPJ6UP16vbD2n/stNt+J/3h93v/sdOSpMnpcT5fK+ALWltbvfI5pnarxcfHKzAwUFVVVR22V1VVKTk5udNjkpOTe7U/AN83PqVtptbeisEzY80wDOf5jk+hBRvwJaaGo5CQEE2dOlUbN250brPb7dq4caOys7M7PSY7O7vD/pK0YcOGLvcH4PvGJUcrwCIdq2vUkVMNZpfjFUdONeqErUkBFu6pBvga09c5Wrp0qf793/9dL774ovbu3avbb79dNptNN910kyRp/vz5ysvLc+5/5513av369frtb3+rffv26cEHH9Tnn3+uJUvorwf8VVhIoDLi27qVBkvr0VeHayVJoxIiFRrMkiKALzF9zNH111+vo0eP6oEHHlBlZaUuvPBCrV+/3jmosrS0VAEBZzJcTk6OXn75Zd1333369a9/rTFjxmjdunW9XuMIgG8ZnxKtA0dt+upwrS4/L8Hscjzuq4q2cESXGuB7TA9HkrRkyZIuW342bdp01rY5c+Zozpw5Hq4KgDednxqtd76o0N720DDQOcLR+amEI8DXmN6tBgDSmRaUrwZJONpLyxHgswhHAHzCBe0h4ZujdWpo9s50XbPUN7WouP22IY6ZegB8B+EIgE9IiLIqPjJEdmPg34S2sPKUDEOKj7QqMSrU7HIAfAvhCIBPsFgszi6mgT7u6Mz6RrQaAb6IcATAZ5w/SMYdfVVRI4nB2ICvIhwB8BnOQdmHB3Y4crQcnc9gbMAnEY4A+AxHS8reilrZ7YbJ1XhGS6vdGf4uoOUI8EmEIwA+IzM+QmHBgbI1teqb9tlcA82Bozadbm5VREigMuIjzS4HQCcIRwB8RlBggLM1ZXd5jcnVeMaX7ed1wbAYBQZYTK4GQGcIRwB8ysThMZKkL8oGaDgqq5YkTRwWY24hALpEOALgUya1h6Mvy6vNLcRDvmhvOXKcJwDfQzgC4FMmDouVJO0ur1XrABuU7ToYm5YjwHcRjgD4lMz4CEWEBOp0c6sOHK0zuxy32n+kTo0tdkVagzRyaITZ5QDoAuEIgE8JCLDogmEDc9zRl+3nM2FYtAIYjA34LMIRAJ8zqT0cOQYvDxRfOscbxZpbCIBuEY4A+BznjLUBNp3fcT4TGG8E+DTCEQCf42hZ+epwrZpb7eYW4ybNrXbnDXUnEY4An0Y4AuBzRsSFKyo0SI0tdu2vGhiDsr+uOqWmFruiQoM0Ymi42eUA6AbhCIDPCQiwOKe6D5T1jnYdqpbUtr6RxcJgbMCXEY4A+KTJabGSpJ2l1abW4S47SqolSVPShphbCIBzIhwB8EkXpbeFiO0lJ02uxD12lradx0UjYs0tBMA5EY4A+KQp6bGS2hZOrDndbG4x/XTS1qRvjtkk0XIE+APCEQCfFB9pdQ5cdozX8VeO+jPjIzQkIsTcYgCcE+EIgM9ydK3t8POutR3tXWoXtreGAfBthCMAPuui9jDhCBf+ylG/I+wB8G2EIwA+a0p7mNh1qFp2u2FyNX3Taje0q33GHeEI8A+EIwA+a1xylMJDAnWqoUVFR/1zMcivq07J1tSqiJBAjU2OMrscAD1AOALgs4ICAzS5/VYi/jql37FO0+S0WAUGsPgj4A8IRwB8mmNdIH8dlO0YbzSFwdiA3yAcAfBpzhlrfjoo29HixXgjwH8QjgD4NEeoOHDUpmN1jSZX0ztHahtUfMwmi0W6eGSc2eUA6CHCEQCfNiQiROPaBzJvKz5hcjW982l7veOToxUTFmxyNQB6inAEwOddljlUkvTpN8dNrqR3trbXm5VJqxHgTwhHAHxeVkZbuNj6jX+1HG1tbzlyhDsA/oFwBMDnXdoejgqrTumErcnkanrmWF2jio60rc10KeONAL9iWjg6ePCgFi5cqIyMDIWFhWnUqFFasWKFmpq6/8M3ffp0WSyWDo/bbrvNS1UDMMPQSKvOS4qUJG0r9o+uNcf4qHHJUdxsFvAzQWZ98L59+2S32/XCCy9o9OjR2r17txYtWiSbzaYnnnii22MXLVqklStXOp+Hh4d7ulwAJrssc6i+rqrTp9+c0MwJKWaXc06O8VGOLkEA/sO0cDRz5kzNnDnT+TwzM1OFhYV67rnnzhmOwsPDlZyc7OkSAfiQrIyh+lNBid8MynaMj8pivBHgd3xqzFFNTY3i4s79r6w///nPio+P14QJE5SXl6f6+vpu929sbFRtbW2HBwD/4pjxta/ylE76+LijE7YmFVadknRmvBQA/+Ez4aioqEjPPPOMfvGLX3S7309/+lO99NJL+vDDD5WXl6f//M//1M9+9rNuj8nPz1dMTIzzkZaW5s7SAXhBfKRVoxPbxh1t9fH1jhzjokYnRio+0mpyNQB6y+3haPny5WcNmP72Y9++fR2OKS8v18yZMzVnzhwtWrSo2/e/9dZblZubq4kTJ2revHn605/+pDfffFMHDhzo8pi8vDzV1NQ4H4cOHXLLuQLwrpxRbV1UHxcdNbmS7m3++pgk6buj402uBEBfuH3M0bJly7RgwYJu98nMzHT+9+HDh3XFFVcoJydHf/jDH3r9eVlZWZLaWp5GjRrV6T5Wq1VWK/96A/zdtDEJ+lNBiTZ/fVSGYchi8b273BuGoY++bgtvl5+XYHI1APrC7eEoISFBCQk9+4NQXl6uK664QlOnTtWaNWsUEND7hqxdu3ZJklJSfH/2CoD+yR41VMGBFh06cVoHj9crIz7C7JLOcuCoTeXVpxUSGMDK2ICfMm3MUXl5uaZPn6709HQ98cQTOnr0qCorK1VZWdlhn3Hjxmnbtm2SpAMHDujhhx/W9u3bdfDgQb399tuaP3++pk2bpkmTJpl1KgC8JMIapItHtAUOR+uMr3HUdUnGEIWHmDYhGEA/mPabu2HDBhUVFamoqEjDhw/v8JphGJKk5uZmFRYWOmejhYSE6P3339dTTz0lm82mtLQ0zZ49W/fdd5/X6wdgjmnnJajgm+P66OujujFnpNnlnOWj/W3haNoYutQAf2VaOFqwYME5xyaNHDnSGZQkKS0tTZs3b/ZwZQB82bTz4vXoemnLgeNqbGmVNSjQ7JKcGppbneswTWO8EeC3fGYqPwD0xPkp0UqIsup0c6u2HzxpdjkdfH7wpBqa7UqMsmpccpTZ5QDoI8IRAL9isVj0vTFtU+Q37/etcUfOLrXzEnxyJh2AniEcAfA7jinymwt9KxxtKjwiiS41wN8RjgD4nWljEhQYYNG+ylM6dKL72wd5S/Exm76uqlNQgEWXMxgb8GuEIwB+Z0hEiC4d2Tal/709lefY2zscdWSPGqqY8GCTqwHQH4QjAH5p5oRkSdL63b4Rjhx1XHVBssmVAOgvwhEAv3TVBUmSpO2lJ3XkVIOptVTWNGjXoWpJ0lXnJ5laC4D+IxwB8EspMWGanBYrw5A2fFVlai0bvmprNZqSHquk6FBTawHQf4QjAH5r5gW+0bX23p62cJZLlxowIBCOAPit3PautYIDx1VT32xKDTX1zc5VsQlHwMBAOALgtzITIjU2KUotdkMb9prTtbZ+T4Va7IbOS4pURnyEKTUAcC/CEQC/ds2kFEnSGzvKTPn8/7ejXJI0a8owUz4fgPsRjgD4tZ9c1BZKCr45rsPV3p21duhEvbYVn5DFIl1HOAIGDMIRAL82fEi4sjOHyjCkt7/07sDsN9pbjb4zKl4pMWFe/WwAnkM4AuD3Zk8dLkl6+wvvjTsyDENv7GzrynO0XgEYGAhHAPze1ROSFR4SqJITp2UdNs4rn7m95KRKjtcrIiTQuVo3gIGBcATA70VYg3T1hLaB2RETZnjlM/9f+wDwqyemKDwkyCufCcA7CEcABoT/0961FjF+miwh4R79rOr6Jq3beViSNPui4R79LADeRzgCMCBclhmnUfHhCrCGK3Jyrkc/6+VtpTrd3KpxyVG6LDPOo58FwPsIRwAGBIvFohsvS5MkRV/8IzW32j3yOc2tdv1pS4kk6ZbvZcpisXjkcwCYh3AEYMD44cREtdpOKig6URv2HvXIZ7z7ZYUqaxsUH2nVjyaneOQzAJiLcARgwLAGBerUjr9KktZ+WibDMNz6/oZh6D/+t1iSND97hKxBgW59fwC+gXAEYEA5tfNd2ZsbtafilArabwjrLp8UHdeX5TWyBgVoXla6W98bgO8gHAEYUOyna2X7coMk6dG/7ZPd7p7WI7vdUP7f9kqSbrgkTUMjrW55XwC+h3AEYMCp/uQVhYcE6u9lNfrLF4fd8p7rdpVrz+FaRVmD9Msrx7jlPQH4JsIRgAHHXl+tW3Laur0eW1+ohubWfr1fQ3OrnnivUJJ0+xWjaDUCBjjCEYAB6cbLhis1JlTl1ae1+uPifr3X6o+LdbimQakxobr5OxluqhCAryIcARiQQoMDdc/MsZKkpzfu196K2j69z+7yGv3u/f2SpF/ljlVoMDPUgIGOcARgwLp28jBdfl6CGlvsWvzyDtkaW3p1fF1ji+74r51qarVrxvgkXTdlmIcqBeBLCEcABqyAAIue/MfJSo4O1TdHbbpv3e4er31kGIYeWLdbxcdsSokJ1eP/ZxKrYQODBOEIwIA2NNKqZ346RYEBFr25s1yPri88Z0Cy2w395q979cbOcgVYpKfnTtGQiBAvVQzAbIQjAAPeJSPj9H9/MF6S9PzmA1r62t/V1NL5vdeaW+1a9vrf9R/tg7hX/OgCXTKSm8sCg0mQ2QUAgDfc/N0MRYYGKe+NL/XmznLtrajVrdMydc2kFFmDAtXUYtdf/n5YL3x0QF9X1SkwwKLHZk/S7KnDzS4dgJdZDHfffMgP1NbWKiYmRjU1NYqOjja7HABuYrPZFBkZKUmqq6tTRETEWftsKjyiJS/vVF374OzwkEAFBwaosaVVDc1trUlR1iD9bu6F+v64JO8VD+CcvPX9TcsRgEFl+thE/e8/X6GXt5XqTwUHVVXbKKltkcj4SKtu/u5IzcsaoZiwYHMLBWAaU8PRyJEjVVJS0mFbfn6+li9f3uUxDQ0NWrZsmV555RU1NjYqNzdX//Zv/6akJP6FB6BnhkSEaPEVo3XrtEyVHLdJkgIDAjQsNkwhQQzFBAY701uOVq5cqUWLFjmfR0VFdbv/3Xffrb/+9a96/fXXFRMToyVLlugnP/mJPvnkE0+XCmCACQ4M0OjE7v/mABh8TA9HUVFRSk5O7tG+NTU1Wr16tV5++WV9//vflyStWbNG48eP16effqrLLrvMk6UCAIBBwPT240ceeURDhw7VlClT9Pjjj6ulpesVbLdv367m5mbNmDHDuW3cuHFKT09XQUFBl8c1Njaqtra2wwMAAKAzprYc/fKXv9RFF12kuLg4bdmyRXl5eaqoqNCTTz7Z6f6VlZUKCQlRbGxsh+1JSUmqrKzs8nPy8/P10EMPubN0AAAwQLm95Wj58uWyWCzdPvbt2ydJWrp0qaZPn65Jkybptttu029/+1s988wzamxsdGtNeXl5qqmpcT4OHTrk1vcHAAADh9tbjpYtW6YFCxZ0u09mZman27OystTS0qKDBw9q7NixZ72enJyspqYmVVdXd2g9qqqq6nbcktVqldVq7VH9AABgcHN7OEpISFBCQkKfjt21a5cCAgKUmJjY6etTp05VcHCwNm7cqNmzZ0uSCgsLVVpaquzs7D7XDAAA4GDamKOCggJt3bpVV1xxhaKiolRQUKC7775bP/vZzzRkyBBJUnl5ua688kr96U9/0qWXXqqYmBgtXLhQS5cuVVxcnKKjo3XHHXcoOzubmWoAAMAtTAtHVqtVr7zyih588EE1NjYqIyNDd999t5YuXercp7m5WYWFhaqvr3duW7VqlQICAjR79uwOi0ACAAC4A/dW495qwIDRk3urAfBf3vr+Nn2dIwAAAF9COAIAAHBBOAIAAHBBOAIAAHBBOAIAAHBBOAIAAHBBOAIAAHBBOAIAAHBBOAIAAHBBOAIAAHBBOAIAAHBBOAIAAHBBOAIAAHBBOAIAAHBBOAIAAHBBOAIAAHBBOAIAAHBBOAIAAHBBOAIAAHBBOAIAAHBBOAIAAHBBOAIAAHBBOAIAAHBBOAIAAHBBOAIAAHBBOAIAAHBBOAIAAHBBOAIAAHBBOAIAAHBBOAIAAHBBOAIAAHBBOAIAAHBBOAIAAHBBOAIAAHBBOAIAAHBhWjjatGmTLBZLp4/PPvusy+OmT59+1v633XabFysHAAADWZBZH5yTk6OKiooO2+6//35t3LhRF198cbfHLlq0SCtXrnQ+Dw8P90iNAABg8DEtHIWEhCg5Odn5vLm5WW+99ZbuuOMOWSyWbo8NDw/vcCwAAIC7+MyYo7ffflvHjx/XTTfddM59//znPys+Pl4TJkxQXl6e6uvru92/sbFRtbW1HR4AAACdMa3l6NtWr16t3NxcDR8+vNv9fvrTn2rEiBFKTU3VF198oXvvvVeFhYV64403ujwmPz9fDz30kLtLBgAAA5DFMAzDnW+4fPlyPfroo93us3fvXo0bN875vKysTCNGjNBrr72m2bNn9+rzPvjgA1155ZUqKirSqFGjOt2nsbFRjY2Nzue1tbVKS0tTTU2NoqOje/V5AHyXzWZTZGSkJKmurk4REREmVwTAnWpraxUTE+Px72+3txwtW7ZMCxYs6HafzMzMDs/XrFmjoUOH6sc//nGvPy8rK0uSug1HVqtVVqu11+8NAAAGH7eHo4SEBCUkJPR4f8MwtGbNGs2fP1/BwcG9/rxdu3ZJklJSUnp9LAAAwLeZPiD7gw8+UHFxsW655ZazXisvL9e4ceO0bds2SdKBAwf08MMPa/v27Tp48KDefvttzZ8/X9OmTdOkSZO8XToAABiATB+QvXr1auXk5HQYg+TQ3NyswsJC52y0kJAQvf/++3rqqadks9mUlpam2bNn67777vN22QAAYIBy+4Bsf+CtAV0AvIsB2cDA5q3vb9O71QAAAHwJ4QgAAMAF4QgAAMAF4QgAAMAF4QgAAMAF4QgAAMAF4QgAAMAF4QgAAMAF4QgAAMAF4QgAAMAF4QgAAMAF4QgAAMAF4QgAAMAF4QgAAMAF4QgAAMAF4QgAAMAF4QgAAMAF4QgAAMAF4QgAAMAF4QgAAMAF4QgAAMAF4QgAAMAF4QgAAMAF4QgAAMAF4QgAAMAF4QgAAMAF4QgAAMAF4QgAAMAF4QgAAMAF4QgAAMAF4QgAAMAF4QgAAMAF4QgAAMAF4QgAAMAF4QgAAMAF4QgAAMCFx8LRb37zG+Xk5Cg8PFyxsbGd7lNaWqprrrlG4eHhSkxM1D333KOWlpZu3/fEiROaN2+eoqOjFRsbq4ULF6qurs4DZwAAAAYjj4WjpqYmzZkzR7fffnunr7e2tuqaa65RU1OTtmzZohdffFFr167VAw880O37zps3T3v27NGGDRv0zjvv6KOPPtKtt97qiVMAAACDkMUwDMOTH7B27Vrdddddqq6u7rD9b3/7m374wx/q8OHDSkpKkiQ9//zzuvfee3X06FGFhISc9V579+7V+eefr88++0wXX3yxJGn9+vX6wQ9+oLKyMqWmpnZaQ2NjoxobG53Pa2pqlJ6erkOHDik6OtpNZwrAbDabzfl34PDhw4qIiDC5IgDuVFtbq7S0NFVXVysmJsZzH2R42Jo1a4yYmJiztt9///3G5MmTO2z75ptvDEnGjh07On2v1atXG7GxsR22NTc3G4GBgcYbb7zRZQ0rVqwwJPHgwYMHDx48BsDjwIEDvc4jvREkk1RWVjpbjBwczysrK7s8JjExscO2oKAgxcXFdXmMJOXl5Wnp0qXO59XV1RoxYoRKS0s9mzx9jCNxD7YWM86b8x4MOG/OezBw9PzExcV59HN6FY6WL1+uRx99tNt99u7dq3HjxvWrKHezWq2yWq1nbY+JiRlU/1M5REdHc96DCOc9uHDeg8tgPe+AAM9Otu9VOFq2bJkWLFjQ7T6ZmZk9eq/k5GRt27atw7aqqirna10dc+TIkQ7bWlpadOLEiS6PAQAA6I1ehaOEhAQlJCS45YOzs7P1m9/8RkeOHHF2lW3YsEHR0dE6//zzuzymurpa27dv19SpUyVJH3zwgex2u7KystxSFwAAGNw81i5VWlqqXbt2qbS0VK2trdq1a5d27drlXJPoqquu0vnnn6+f//zn+vvf/6733ntP9913nxYvXuzsAtu2bZvGjRun8vJySdL48eM1c+ZMLVq0SNu2bdMnn3yiJUuW6IYbbuhyplpnrFarVqxY0WlX20DGeXPegwHnzXkPBpy3Z8/bY1P5FyxYoBdffPGs7R9++KGmT58uSSopKdHtt9+uTZs2KSIiQjfeeKMeeeQRBQW1NWht2rRJV1xxhYqLizVy5EhJbYtALlmyRH/5y18UEBCg2bNn6+mnn1ZkZKQnTgMAAAwyHl/nCAAAwJ9wbzUAAAAXhCMAAAAXhCMAAAAXhCMAAAAXAzIc/eY3v1FOTo7Cw8MVGxvb6T6lpaW65pprFB4ersTERN1zzz1qaWnp9n1PnDihefPmKTo6WrGxsVq4cKFzaQJftGnTJlkslk4fn332WZfHTZ8+/az9b7vtNi9W3n8jR4486xweeeSRbo9paGjQ4sWLNXToUEVGRmr27NnOhUn9wcGDB7Vw4UJlZGQoLCxMo0aN0ooVK9TU1NTtcf54vZ999lmNHDlSoaGhysrKOmtB2W97/fXXNW7cOIWGhmrixIl69913vVSpe+Tn5+uSSy5RVFSUEhMTNWvWLBUWFnZ7zNq1a8+6rqGhoV6q2D0efPDBs87hXHdg8PdrLXX+98tisWjx4sWd7u+v1/qjjz7Sj370I6WmpspisWjdunUdXjcMQw888IBSUlIUFhamGTNmaP/+/ed8397+fejMgAxHTU1NmjNnjm6//fZOX29tbdU111yjpqYmbdmyRS+++KLWrl2rBx54oNv3nTdvnvbs2aMNGzbonXfe0UcffaRbb73VE6fgFjk5OaqoqOjwuOWWW5SRkaGLL76422MXLVrU4bjHHnvMS1W7z8qVKzucwx133NHt/nfffbf+8pe/6PXXX9fmzZt1+PBh/eQnP/FStf23b98+2e12vfDCC9qzZ49WrVql559/Xr/+9a/Peaw/Xe9XX31VS5cu1YoVK7Rjxw5NnjxZubm5Z62e77BlyxbNnTtXCxcu1M6dOzVr1izNmjVLu3fv9nLlfbd582YtXrxYn376qTZs2KDm5mZdddVVstls3R4XHR3d4bqWlJR4qWL3ueCCCzqcw8cff9zlvgPhWkvSZ5991uGcN2zYIEmaM2dOl8f447W22WyaPHmynn322U5ff+yxx/T000/r+eef19atWxUREaHc3Fw1NDR0+Z69/fvQJY/e1tZka9asMWJiYs7a/u677xoBAQFGZWWlc9tzzz1nREdHG42NjZ2+11dffWVIMj777DPntr/97W+GxWIxysvL3V67JzQ1NRkJCQnGypUru93v8ssvN+68807vFOUhI0aMMFatWtXj/aurq43g4GDj9ddfd27bu3evIckoKCjwQIXe8dhjjxkZGRnd7uNv1/vSSy81Fi9e7Hze2tpqpKamGvn5+Z3u/4//+I/GNddc02FbVlaW8Ytf/MKjdXrSkSNHDEnG5s2bu9ynq79//mTFihXG5MmTe7z/QLzWhmEYd955pzFq1CjDbrd3+vpAuNaSjDfffNP53G63G8nJycbjjz/u3FZdXW1YrVbjv/7rv7p8n97+fejKgGw5OpeCggJNnDhRSUlJzm25ubmqra3Vnj17ujwmNja2Q4vLjBkzFBAQoK1bt3q8Znd4++23dfz4cd10003n3PfPf/6z4uPjNWHCBOXl5am+vt4LFbrXI488oqFDh2rKlCl6/PHHu+023b59u5qbmzVjxgzntnHjxik9PV0FBQXeKNcjampqenT3an+53k1NTdq+fXuH6xQQEKAZM2Z0eZ0KCgo67C+1/b77+3WVdM5rW1dXpxEjRigtLU3XXnttl3/ffNn+/fuVmpqqzMxMzZs3T6WlpV3uOxCvdVNTk1566SXdfPPNslgsXe43EK61q+LiYlVWVna4njExMcrKyuryevbl70NXenVvtYGisrKyQzCS5HxeWVnZ5TGOe8A5BAUFKS4urstjfM3q1auVm5ur4cOHd7vfT3/6U40YMUKpqan64osvdO+996qwsFBvvPGGlyrtv1/+8pe66KKLFBcXpy1btigvL08VFRV68sknO92/srJSISEhZ41RS0pK8pvr+21FRUV65pln9MQTT3S7nz9d72PHjqm1tbXT3999+/Z1ekxXv+/+el3tdrvuuusufec739GECRO63G/s2LH64x//qEmTJqmmpkZPPPGEcnJytGfPnnP+DfAVWVlZWrt2rcaOHauKigo99NBD+t73vqfdu3crKirqrP0H2rWWpHXr1qm6urrbm74PhGv9bY5r1pvr2Ze/D13xm3C0fPlyPfroo93us3fv3nMO1hsI+vKzKCsr03vvvafXXnvtnO/vOo5q4sSJSklJ0ZVXXqkDBw5o1KhRfS+8n3pz3kuXLnVumzRpkkJCQvSLX/xC+fn5fncvor5c7/Lycs2cOVNz5szRokWLuj3WV683Ord48WLt3r2727E3UtuNurOzs53Pc3JyNH78eL3wwgt6+OGHPV2mW1x99dXO/540aZKysrI0YsQIvfbaa1q4cKGJlXnP6tWrdfXVV3d7/9CBcK19jd+Eo2XLlnWbnCUpMzOzR++VnJx81uh1x6yk5OTkLo/59oCulpYWnThxostjPKUvP4s1a9Zo6NCh+vGPf9zrz8vKypLU1hJh5pdlf/4fyMrKUktLiw4ePKixY8ee9XpycrKamppUXV3dofWoqqrK69f323p73ocPH9YVV1yhnJwc/eEPf+j15/nK9e5MfHy8AgMDz5pF2N11Sk5O7tX+vmzJkiXOySC9bREIDg7WlClTVFRU5KHqPC82NlbnnXdel+cwkK611Hb/0ffff7/XrbgD4Vo7rllVVZVSUlKc26uqqnThhRd2ekxf/j50qVcjlPzMuQZkV1VVObe98MILRnR0tNHQ0NDpezkGZH/++efObe+9955fDMi22+1GRkaGsWzZsj4d//HHHxuSjL///e9ursx7XnrpJSMgIMA4ceJEp687BmT/93//t3Pbvn37/G5AdllZmTFmzBjjhhtuMFpaWvr0Hr5+vS+99FJjyZIlzuetra3GsGHDuh2Q/cMf/rDDtuzsbL8apGu3243Fixcbqampxtdff92n92hpaTHGjh1r3H333W6uzntOnTplDBkyxPjd737X6esD4Vq7WrFihZGcnGw0Nzf36jh/vNbqYkD2E0884dxWU1PTowHZvfn70GU9vdrbT5SUlBg7d+40HnroISMyMtLYuXOnsXPnTuPUqVOGYbT9jzNhwgTjqquuMnbt2mWsX7/eSEhIMPLy8pzvsXXrVmPs2LFGWVmZc9vMmTONKVOmGFu3bjU+/vhjY8yYMcbcuXO9fn699f777xuSjL179571WllZmTF27Fhj69athmEYRlFRkbFy5Urj888/N4qLi4233nrLyMzMNKZNm+btsvtsy5YtxqpVq4xdu3YZBw4cMF566SUjISHBmD9/vnOfb5+3YRjGbbfdZqSnpxsffPCB8fnnnxvZ2dlGdna2GafQJ2VlZcbo0aONK6+80igrKzMqKiqcD9d9/P16v/LKK4bVajXWrl1rfPXVV8att95qxMbGOmef/vznPzeWL1/u3P+TTz4xgoKCjCeeeMLYu3evsWLFCiM4ONj48ssvzTqFXrv99tuNmJgYY9OmTR2ua319vXOfb5/3Qw89ZLz33nvGgQMHjO3btxs33HCDERoaauzZs8eMU+iTZcuWGZs2bTKKi4uNTz75xJgxY4YRHx9vHDlyxDCMgXmtHVpbW4309HTj3nvvPeu1gXKtT5065fx+lmQ8+eSTxs6dO42SkhLDMAzjkUceMWJjY4233nrL+OKLL4xrr73WyMjIME6fPu18j+9///vGM88843x+rr8PPTUgw9GNN95oSDrr8eGHHzr3OXjwoHH11VcbYWFhRnx8vLFs2bIO6fzDDz80JBnFxcXObcePHzfmzp1rREZGGtHR0cZNN93kDFy+bO7cuUZOTk6nrxUXF3f42ZSWlhrTpk0z4uLiDKvVaowePdq45557jJqaGi9W3D/bt283srKyjJiYGCM0NNQYP3688a//+q8dWgW/fd6GYRinT582/umf/skYMmSIER4eblx33XUdgoWvW7NmTaf/37s2EA+U6/3MM88Y6enpRkhIiHHppZcan376qfO1yy+/3Ljxxhs77P/aa68Z5513nhESEmJccMEFxl//+lcvV9w/XV3XNWvWOPf59nnfddddzp9RUlKS8YMf/MDYsWOH94vvh+uvv95ISUkxQkJCjGHDhhnXX3+9UVRU5Hx9IF5rh/fee8+QZBQWFp712kC51o7v2W8/HOdmt9uN+++/30hKSjKsVqtx5ZVXnvXzGDFihLFixYoO27r7+9BTFsMwjN51xAEAAAxcg3KdIwAAgK4QjgAAAFwQjgAAAFwQjgAAAFwQjgAAAFwQjgAAAFwQjgAAAFwQjgAAAFwQjgAAAFwQjgAAAFwQjgAAAFz8f6okOC1Rj4dNAAAAAElFTkSuQmCC\n",
         "text/plain": "<Figure size 640x480 with 1 Axes>"
        },
        "metadata": {},
        "output_type": "display_data"
       }
      ]
     }
    },
    "c67ad9e611714d448348b9ab313c17b4": {
     "model_module": "@jupyter-widgets/base",
     "model_module_version": "1.2.0",
     "model_name": "LayoutModel",
     "state": {
      "_model_module": "@jupyter-widgets/base",
      "_model_module_version": "1.2.0",
      "_model_name": "LayoutModel",
      "_view_count": null,
      "_view_module": "@jupyter-widgets/base",
      "_view_module_version": "1.2.0",
      "_view_name": "LayoutView",
      "align_content": null,
      "align_items": null,
      "align_self": null,
      "border": null,
      "bottom": null,
      "display": null,
      "flex": null,
      "flex_flow": null,
      "grid_area": null,
      "grid_auto_columns": null,
      "grid_auto_flow": null,
      "grid_auto_rows": null,
      "grid_column": null,
      "grid_gap": null,
      "grid_row": null,
      "grid_template_areas": null,
      "grid_template_columns": null,
      "grid_template_rows": null,
      "height": null,
      "justify_content": null,
      "justify_items": null,
      "left": null,
      "margin": null,
      "max_height": null,
      "max_width": null,
      "min_height": null,
      "min_width": null,
      "object_fit": null,
      "object_position": null,
      "order": null,
      "overflow": null,
      "overflow_x": null,
      "overflow_y": null,
      "padding": null,
      "right": null,
      "top": null,
      "visibility": null,
      "width": null
     }
    },
    "cb5cc2cdce1041afac7bef27cda8dc8d": {
     "model_module": "@jupyter-widgets/controls",
     "model_module_version": "1.5.0",
     "model_name": "IntSliderModel",
     "state": {
      "_dom_classes": [],
      "_model_module": "@jupyter-widgets/controls",
      "_model_module_version": "1.5.0",
      "_model_name": "IntSliderModel",
      "_view_count": null,
      "_view_module": "@jupyter-widgets/controls",
      "_view_module_version": "1.5.0",
      "_view_name": "IntSliderView",
      "continuous_update": true,
      "description": "a",
      "description_tooltip": null,
      "disabled": false,
      "layout": "IPY_MODEL_a26e10f920574f1d9d041c1f0f4809b0",
      "max": 9,
      "min": -9,
      "orientation": "horizontal",
      "readout": true,
      "readout_format": "d",
      "step": 1,
      "style": "IPY_MODEL_0ccd325d9db9466bae1bdf95307f383e",
      "value": 3
     }
    },
    "cfb5e5e1c3a44ebc8988e5a4c9f92463": {
     "model_module": "@jupyter-widgets/base",
     "model_module_version": "1.2.0",
     "model_name": "LayoutModel",
     "state": {
      "_model_module": "@jupyter-widgets/base",
      "_model_module_version": "1.2.0",
      "_model_name": "LayoutModel",
      "_view_count": null,
      "_view_module": "@jupyter-widgets/base",
      "_view_module_version": "1.2.0",
      "_view_name": "LayoutView",
      "align_content": null,
      "align_items": null,
      "align_self": null,
      "border": null,
      "bottom": null,
      "display": null,
      "flex": null,
      "flex_flow": null,
      "grid_area": null,
      "grid_auto_columns": null,
      "grid_auto_flow": null,
      "grid_auto_rows": null,
      "grid_column": null,
      "grid_gap": null,
      "grid_row": null,
      "grid_template_areas": null,
      "grid_template_columns": null,
      "grid_template_rows": null,
      "height": null,
      "justify_content": null,
      "justify_items": null,
      "left": null,
      "margin": null,
      "max_height": null,
      "max_width": null,
      "min_height": null,
      "min_width": null,
      "object_fit": null,
      "object_position": null,
      "order": null,
      "overflow": null,
      "overflow_x": null,
      "overflow_y": null,
      "padding": null,
      "right": null,
      "top": null,
      "visibility": null,
      "width": null
     }
    },
    "d9170576e49a4d7cb589eb430b5cce7f": {
     "model_module": "@jupyter-widgets/controls",
     "model_module_version": "1.5.0",
     "model_name": "SliderStyleModel",
     "state": {
      "_model_module": "@jupyter-widgets/controls",
      "_model_module_version": "1.5.0",
      "_model_name": "SliderStyleModel",
      "_view_count": null,
      "_view_module": "@jupyter-widgets/base",
      "_view_module_version": "1.2.0",
      "_view_name": "StyleView",
      "description_width": "",
      "handle_color": null
     }
    },
    "dec7f51277204224847c3b6209c7c3a9": {
     "model_module": "@jupyter-widgets/base",
     "model_module_version": "1.2.0",
     "model_name": "LayoutModel",
     "state": {
      "_model_module": "@jupyter-widgets/base",
      "_model_module_version": "1.2.0",
      "_model_name": "LayoutModel",
      "_view_count": null,
      "_view_module": "@jupyter-widgets/base",
      "_view_module_version": "1.2.0",
      "_view_name": "LayoutView",
      "align_content": null,
      "align_items": null,
      "align_self": null,
      "border": null,
      "bottom": null,
      "display": null,
      "flex": null,
      "flex_flow": null,
      "grid_area": null,
      "grid_auto_columns": null,
      "grid_auto_flow": null,
      "grid_auto_rows": null,
      "grid_column": null,
      "grid_gap": null,
      "grid_row": null,
      "grid_template_areas": null,
      "grid_template_columns": null,
      "grid_template_rows": null,
      "height": null,
      "justify_content": null,
      "justify_items": null,
      "left": null,
      "margin": null,
      "max_height": null,
      "max_width": null,
      "min_height": null,
      "min_width": null,
      "object_fit": null,
      "object_position": null,
      "order": null,
      "overflow": null,
      "overflow_x": null,
      "overflow_y": null,
      "padding": null,
      "right": null,
      "top": null,
      "visibility": null,
      "width": null
     }
    },
    "e41099cd5bdc408eaebd366c68f6c0ef": {
     "model_module": "@jupyter-widgets/controls",
     "model_module_version": "1.5.0",
     "model_name": "IntSliderModel",
     "state": {
      "_dom_classes": [],
      "_model_module": "@jupyter-widgets/controls",
      "_model_module_version": "1.5.0",
      "_model_name": "IntSliderModel",
      "_view_count": null,
      "_view_module": "@jupyter-widgets/controls",
      "_view_module_version": "1.5.0",
      "_view_name": "IntSliderView",
      "continuous_update": true,
      "description": "c",
      "description_tooltip": null,
      "disabled": false,
      "layout": "IPY_MODEL_dec7f51277204224847c3b6209c7c3a9",
      "max": 9,
      "min": -9,
      "orientation": "horizontal",
      "readout": true,
      "readout_format": "d",
      "step": 1,
      "style": "IPY_MODEL_6c2d93b0219340619ba9586c311fbba6",
      "value": -4
     }
    },
    "f8e919cc9ed34da29c186a88e947ae03": {
     "model_module": "@jupyter-widgets/controls",
     "model_module_version": "1.5.0",
     "model_name": "SliderStyleModel",
     "state": {
      "_model_module": "@jupyter-widgets/controls",
      "_model_module_version": "1.5.0",
      "_model_name": "SliderStyleModel",
      "_view_count": null,
      "_view_module": "@jupyter-widgets/base",
      "_view_module_version": "1.2.0",
      "_view_name": "StyleView",
      "description_width": "",
      "handle_color": null
     }
    }
   }
  }
 },
 "nbformat": 4,
 "nbformat_minor": 0
}
